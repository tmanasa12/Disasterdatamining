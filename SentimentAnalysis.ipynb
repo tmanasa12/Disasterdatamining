{
  "nbformat": 4,
  "nbformat_minor": 0,
  "metadata": {
    "colab": {
      "provenance": []
    },
    "kernelspec": {
      "name": "python3",
      "display_name": "Python 3"
    },
    "accelerator": "TPU"
  },
  "cells": [
    {
      "cell_type": "markdown",
      "source": [
        "**DISASTER DATA MINING BASED ON SOCIAL MEDIA TEXTS**"
      ],
      "metadata": {
        "id": "1FHUZDRxAVwr"
      }
    },
    {
      "cell_type": "code",
      "metadata": {
        "id": "hui3NkD7yG93",
        "outputId": "aae3ec9c-1315-4c77-db61-89f3853ea3f4",
        "colab": {
          "base_uri": "https://localhost:8080/",
          "height": 17
        }
      },
      "source": [
        "# importing the libraries for data processing\n",
        "import pandas as pd\n",
        "import numpy as np\n",
        "import matplotlib.pyplot as plt\n",
        "import seaborn as sns\n",
        "import warnings\n",
        "%matplotlib inline\n",
        "plt.style.use('fivethirtyeight')\n",
        "warnings.filterwarnings('ignore')\n",
        "import plotly.offline as py\n",
        "py.init_notebook_mode(connected=True)\n",
        "import plotly.graph_objs as go\n",
        "sns.set()\n",
        "import re\n",
        "import nltk\n",
        "# color pallette\n",
        "cnf = '#393e46' # confirmed - grey\n",
        "dth = '#ff2e63' # death - red\n",
        "rec = '#21bf73' # recovered - cyan\n",
        "act = '#fe9801' # active case - yellow\n",
        "\n",
        "# converter\n",
        "from pandas.plotting import register_matplotlib_converters\n",
        "register_matplotlib_converters()   \n",
        "\n",
        "# hide warnings\n",
        "import warnings\n",
        "warnings.filterwarnings('ignore')\n",
        "\n",
        "\n",
        "# html embedding\n",
        "from IPython.display import Javascript\n",
        "from IPython.core.display import display\n",
        "from IPython.core.display import HTML"
      ],
      "execution_count": null,
      "outputs": [
        {
          "output_type": "display_data",
          "data": {
            "text/html": [
              "        <script type=\"text/javascript\">\n",
              "        window.PlotlyConfig = {MathJaxConfig: 'local'};\n",
              "        if (window.MathJax) {MathJax.Hub.Config({SVG: {font: \"STIX-Web\"}});}\n",
              "        if (typeof require !== 'undefined') {\n",
              "        require.undef(\"plotly\");\n",
              "        requirejs.config({\n",
              "            paths: {\n",
              "                'plotly': ['https://cdn.plot.ly/plotly-2.8.3.min']\n",
              "            }\n",
              "        });\n",
              "        require(['plotly'], function(Plotly) {\n",
              "            window._Plotly = Plotly;\n",
              "        });\n",
              "        }\n",
              "        </script>\n",
              "        "
            ]
          },
          "metadata": {}
        }
      ]
    },
    {
      "cell_type": "code",
      "source": [
        "tweets = pd.read_csv('/content/preprocessed_tweets.csv',lineterminator='\\n')\n"
      ],
      "metadata": {
        "id": "nkZ9IUpsrDd_"
      },
      "execution_count": null,
      "outputs": []
    },
    {
      "cell_type": "code",
      "source": [
        "tweets = tweets.dropna(subset=['video'])"
      ],
      "metadata": {
        "id": "CTU1THYD927z"
      },
      "execution_count": null,
      "outputs": []
    },
    {
      "cell_type": "code",
      "source": [
        "tweets['index'] = range(1, len(tweets) + 1)"
      ],
      "metadata": {
        "id": "TP42XZQYCDkI"
      },
      "execution_count": null,
      "outputs": []
    },
    {
      "cell_type": "code",
      "source": [
        "num_train = len(tweets)//3\n",
        "num_test = len(tweets) - num_train"
      ],
      "metadata": {
        "id": "iSIIkPeL_wPE"
      },
      "execution_count": null,
      "outputs": []
    },
    {
      "cell_type": "code",
      "source": [
        "print(num_train)\n",
        "print(num_test)"
      ],
      "metadata": {
        "colab": {
          "base_uri": "https://localhost:8080/"
        },
        "id": "7dStk6VyADFk",
        "outputId": "831dbbe8-bf68-4b05-f81b-926aaa21e9ce"
      },
      "execution_count": null,
      "outputs": [
        {
          "output_type": "stream",
          "name": "stdout",
          "text": [
            "43391\n",
            "86783\n"
          ]
        }
      ]
    },
    {
      "cell_type": "code",
      "source": [
        "train = tweets[:num_test]\n",
        "test = tweets[num_test:]"
      ],
      "metadata": {
        "id": "Xl0a4or3Aaqz"
      },
      "execution_count": null,
      "outputs": []
    },
    {
      "cell_type": "code",
      "source": [
        "len(tweets)"
      ],
      "metadata": {
        "colab": {
          "base_uri": "https://localhost:8080/"
        },
        "id": "NZrWy1pv-fkk",
        "outputId": "39e642ce-fb53-4cf8-d4d8-def797a27d47"
      },
      "execution_count": null,
      "outputs": [
        {
          "output_type": "execute_result",
          "data": {
            "text/plain": [
              "130174"
            ]
          },
          "metadata": {},
          "execution_count": 11
        }
      ]
    },
    {
      "cell_type": "code",
      "metadata": {
        "id": "GC89JmnYyt2L",
        "outputId": "a9faebf6-609d-48b3-c38a-b271ccf95ce0",
        "colab": {
          "base_uri": "https://localhost:8080/"
        }
      },
      "source": [
        "train.info()"
      ],
      "execution_count": null,
      "outputs": [
        {
          "output_type": "stream",
          "name": "stdout",
          "text": [
            "<class 'pandas.core.frame.DataFrame'>\n",
            "Int64Index: 86783 entries, 0 to 86782\n",
            "Data columns (total 38 columns):\n",
            " #   Column           Non-Null Count  Dtype  \n",
            "---  ------           --------------  -----  \n",
            " 0   Unnamed: 0       86783 non-null  int64  \n",
            " 1   id               86783 non-null  int64  \n",
            " 2   conversation_id  86783 non-null  int64  \n",
            " 3   created_at       86783 non-null  object \n",
            " 4   date             86783 non-null  object \n",
            " 5   time             86783 non-null  object \n",
            " 6   timezone         86783 non-null  int64  \n",
            " 7   user_id          86783 non-null  int64  \n",
            " 8   username         86783 non-null  object \n",
            " 9   name             86781 non-null  object \n",
            " 10  place            139 non-null    object \n",
            " 11  tweet            86783 non-null  object \n",
            " 12  language         86783 non-null  object \n",
            " 13  mentions         86783 non-null  object \n",
            " 14  urls             86783 non-null  object \n",
            " 15  photos           86783 non-null  object \n",
            " 16  replies_count    86783 non-null  int64  \n",
            " 17  retweets_count   86783 non-null  int64  \n",
            " 18  likes_count      86783 non-null  int64  \n",
            " 19  hashtags         86783 non-null  object \n",
            " 20  cashtags         86783 non-null  object \n",
            " 21  link             86783 non-null  object \n",
            " 22  retweet          86783 non-null  bool   \n",
            " 23  quote_url        4272 non-null   object \n",
            " 24  video            86783 non-null  int64  \n",
            " 25  thumbnail        17138 non-null  object \n",
            " 26  near             0 non-null      float64\n",
            " 27  geo              0 non-null      float64\n",
            " 28  source           0 non-null      float64\n",
            " 29  user_rt_id       0 non-null      float64\n",
            " 30  user_rt          0 non-null      float64\n",
            " 31  retweet_id       0 non-null      float64\n",
            " 32  reply_to         86783 non-null  object \n",
            " 33  retweet_date     0 non-null      float64\n",
            " 34  translate        0 non-null      float64\n",
            " 35  trans_src        0 non-null      float64\n",
            " 36  trans_dest       0 non-null      float64\n",
            " 37  index            86783 non-null  int64  \n",
            "dtypes: bool(1), float64(10), int64(10), object(17)\n",
            "memory usage: 25.2+ MB\n"
          ]
        }
      ]
    },
    {
      "cell_type": "code",
      "metadata": {
        "id": "4LEyY4QHyv2v",
        "outputId": "06ae80a2-8e6c-456b-9df2-36cad72ee685",
        "colab": {
          "base_uri": "https://localhost:8080/",
          "height": 433
        }
      },
      "source": [
        "train.tail()"
      ],
      "execution_count": null,
      "outputs": [
        {
          "output_type": "execute_result",
          "data": {
            "text/plain": [
              "       Unnamed: 0                   id      conversation_id  \\\n",
              "86778       86778  1590323812541009923  1590313972330561536   \n",
              "86779       86779  1590323809995096065  1590323809995096064   \n",
              "86780       86780  1590323807889149952  1590323807889149952   \n",
              "86781       86781  1590323789791137792  1590323789791137792   \n",
              "86782       86782  1590323784703410176  1590323784703410176   \n",
              "\n",
              "                      created_at        date      time  timezone  \\\n",
              "86778  2022-11-09 12:41:58+00:00  2022-11-09  12:41:58         0   \n",
              "86779  2022-11-09 12:41:57+00:00  2022-11-09  12:41:57         0   \n",
              "86780  2022-11-09 12:41:57+00:00  2022-11-09  12:41:57         0   \n",
              "86781  2022-11-09 12:41:52+00:00  2022-11-09  12:41:52         0   \n",
              "86782  2022-11-09 12:41:51+00:00  2022-11-09  12:41:51         0   \n",
              "\n",
              "                   user_id       username                 name  ... source  \\\n",
              "86778  1485625346519097344  spacecrystalz  𝔛𝔱𝔯𝔞𝔗𝔢𝔯𝔯𝔢𝔰𝔱𝔦𝔞𝔩 🪐🔭♓️  ...    NaN   \n",
              "86779             40121018       mscierab                Cee❤️  ...    NaN   \n",
              "86780              9721292          abc15        ABC15 Arizona  ...    NaN   \n",
              "86781  1295373381211230208  saturnownsyou               camONG  ...    NaN   \n",
              "86782  1540958739112796160   goddammnittt           Miss Messy  ...    NaN   \n",
              "\n",
              "      user_rt_id user_rt retweet_id  \\\n",
              "86778        NaN     NaN        NaN   \n",
              "86779        NaN     NaN        NaN   \n",
              "86780        NaN     NaN        NaN   \n",
              "86781        NaN     NaN        NaN   \n",
              "86782        NaN     NaN        NaN   \n",
              "\n",
              "                                                reply_to retweet_date  \\\n",
              "86778  [{'screen_name': 'catturd2', 'name': 'Catturd ...          NaN   \n",
              "86779                                                 []          NaN   \n",
              "86780                                                 []          NaN   \n",
              "86781                                                 []          NaN   \n",
              "86782                                                 []          NaN   \n",
              "\n",
              "       translate  trans_src  trans_dest  index  \n",
              "86778        NaN        NaN         NaN  86779  \n",
              "86779        NaN        NaN         NaN  86780  \n",
              "86780        NaN        NaN         NaN  86781  \n",
              "86781        NaN        NaN         NaN  86782  \n",
              "86782        NaN        NaN         NaN  86783  \n",
              "\n",
              "[5 rows x 38 columns]"
            ],
            "text/html": [
              "\n",
              "  <div id=\"df-92636361-bbbd-4c68-ad1d-7945c69c614d\">\n",
              "    <div class=\"colab-df-container\">\n",
              "      <div>\n",
              "<style scoped>\n",
              "    .dataframe tbody tr th:only-of-type {\n",
              "        vertical-align: middle;\n",
              "    }\n",
              "\n",
              "    .dataframe tbody tr th {\n",
              "        vertical-align: top;\n",
              "    }\n",
              "\n",
              "    .dataframe thead th {\n",
              "        text-align: right;\n",
              "    }\n",
              "</style>\n",
              "<table border=\"1\" class=\"dataframe\">\n",
              "  <thead>\n",
              "    <tr style=\"text-align: right;\">\n",
              "      <th></th>\n",
              "      <th>Unnamed: 0</th>\n",
              "      <th>id</th>\n",
              "      <th>conversation_id</th>\n",
              "      <th>created_at</th>\n",
              "      <th>date</th>\n",
              "      <th>time</th>\n",
              "      <th>timezone</th>\n",
              "      <th>user_id</th>\n",
              "      <th>username</th>\n",
              "      <th>name</th>\n",
              "      <th>...</th>\n",
              "      <th>source</th>\n",
              "      <th>user_rt_id</th>\n",
              "      <th>user_rt</th>\n",
              "      <th>retweet_id</th>\n",
              "      <th>reply_to</th>\n",
              "      <th>retweet_date</th>\n",
              "      <th>translate</th>\n",
              "      <th>trans_src</th>\n",
              "      <th>trans_dest</th>\n",
              "      <th>index</th>\n",
              "    </tr>\n",
              "  </thead>\n",
              "  <tbody>\n",
              "    <tr>\n",
              "      <th>86778</th>\n",
              "      <td>86778</td>\n",
              "      <td>1590323812541009923</td>\n",
              "      <td>1590313972330561536</td>\n",
              "      <td>2022-11-09 12:41:58+00:00</td>\n",
              "      <td>2022-11-09</td>\n",
              "      <td>12:41:58</td>\n",
              "      <td>0</td>\n",
              "      <td>1485625346519097344</td>\n",
              "      <td>spacecrystalz</td>\n",
              "      <td>𝔛𝔱𝔯𝔞𝔗𝔢𝔯𝔯𝔢𝔰𝔱𝔦𝔞𝔩 🪐🔭♓️</td>\n",
              "      <td>...</td>\n",
              "      <td>NaN</td>\n",
              "      <td>NaN</td>\n",
              "      <td>NaN</td>\n",
              "      <td>NaN</td>\n",
              "      <td>[{'screen_name': 'catturd2', 'name': 'Catturd ...</td>\n",
              "      <td>NaN</td>\n",
              "      <td>NaN</td>\n",
              "      <td>NaN</td>\n",
              "      <td>NaN</td>\n",
              "      <td>86779</td>\n",
              "    </tr>\n",
              "    <tr>\n",
              "      <th>86779</th>\n",
              "      <td>86779</td>\n",
              "      <td>1590323809995096065</td>\n",
              "      <td>1590323809995096064</td>\n",
              "      <td>2022-11-09 12:41:57+00:00</td>\n",
              "      <td>2022-11-09</td>\n",
              "      <td>12:41:57</td>\n",
              "      <td>0</td>\n",
              "      <td>40121018</td>\n",
              "      <td>mscierab</td>\n",
              "      <td>Cee❤️</td>\n",
              "      <td>...</td>\n",
              "      <td>NaN</td>\n",
              "      <td>NaN</td>\n",
              "      <td>NaN</td>\n",
              "      <td>NaN</td>\n",
              "      <td>[]</td>\n",
              "      <td>NaN</td>\n",
              "      <td>NaN</td>\n",
              "      <td>NaN</td>\n",
              "      <td>NaN</td>\n",
              "      <td>86780</td>\n",
              "    </tr>\n",
              "    <tr>\n",
              "      <th>86780</th>\n",
              "      <td>86780</td>\n",
              "      <td>1590323807889149952</td>\n",
              "      <td>1590323807889149952</td>\n",
              "      <td>2022-11-09 12:41:57+00:00</td>\n",
              "      <td>2022-11-09</td>\n",
              "      <td>12:41:57</td>\n",
              "      <td>0</td>\n",
              "      <td>9721292</td>\n",
              "      <td>abc15</td>\n",
              "      <td>ABC15 Arizona</td>\n",
              "      <td>...</td>\n",
              "      <td>NaN</td>\n",
              "      <td>NaN</td>\n",
              "      <td>NaN</td>\n",
              "      <td>NaN</td>\n",
              "      <td>[]</td>\n",
              "      <td>NaN</td>\n",
              "      <td>NaN</td>\n",
              "      <td>NaN</td>\n",
              "      <td>NaN</td>\n",
              "      <td>86781</td>\n",
              "    </tr>\n",
              "    <tr>\n",
              "      <th>86781</th>\n",
              "      <td>86781</td>\n",
              "      <td>1590323789791137792</td>\n",
              "      <td>1590323789791137792</td>\n",
              "      <td>2022-11-09 12:41:52+00:00</td>\n",
              "      <td>2022-11-09</td>\n",
              "      <td>12:41:52</td>\n",
              "      <td>0</td>\n",
              "      <td>1295373381211230208</td>\n",
              "      <td>saturnownsyou</td>\n",
              "      <td>camONG</td>\n",
              "      <td>...</td>\n",
              "      <td>NaN</td>\n",
              "      <td>NaN</td>\n",
              "      <td>NaN</td>\n",
              "      <td>NaN</td>\n",
              "      <td>[]</td>\n",
              "      <td>NaN</td>\n",
              "      <td>NaN</td>\n",
              "      <td>NaN</td>\n",
              "      <td>NaN</td>\n",
              "      <td>86782</td>\n",
              "    </tr>\n",
              "    <tr>\n",
              "      <th>86782</th>\n",
              "      <td>86782</td>\n",
              "      <td>1590323784703410176</td>\n",
              "      <td>1590323784703410176</td>\n",
              "      <td>2022-11-09 12:41:51+00:00</td>\n",
              "      <td>2022-11-09</td>\n",
              "      <td>12:41:51</td>\n",
              "      <td>0</td>\n",
              "      <td>1540958739112796160</td>\n",
              "      <td>goddammnittt</td>\n",
              "      <td>Miss Messy</td>\n",
              "      <td>...</td>\n",
              "      <td>NaN</td>\n",
              "      <td>NaN</td>\n",
              "      <td>NaN</td>\n",
              "      <td>NaN</td>\n",
              "      <td>[]</td>\n",
              "      <td>NaN</td>\n",
              "      <td>NaN</td>\n",
              "      <td>NaN</td>\n",
              "      <td>NaN</td>\n",
              "      <td>86783</td>\n",
              "    </tr>\n",
              "  </tbody>\n",
              "</table>\n",
              "<p>5 rows × 38 columns</p>\n",
              "</div>\n",
              "      <button class=\"colab-df-convert\" onclick=\"convertToInteractive('df-92636361-bbbd-4c68-ad1d-7945c69c614d')\"\n",
              "              title=\"Convert this dataframe to an interactive table.\"\n",
              "              style=\"display:none;\">\n",
              "        \n",
              "  <svg xmlns=\"http://www.w3.org/2000/svg\" height=\"24px\"viewBox=\"0 0 24 24\"\n",
              "       width=\"24px\">\n",
              "    <path d=\"M0 0h24v24H0V0z\" fill=\"none\"/>\n",
              "    <path d=\"M18.56 5.44l.94 2.06.94-2.06 2.06-.94-2.06-.94-.94-2.06-.94 2.06-2.06.94zm-11 1L8.5 8.5l.94-2.06 2.06-.94-2.06-.94L8.5 2.5l-.94 2.06-2.06.94zm10 10l.94 2.06.94-2.06 2.06-.94-2.06-.94-.94-2.06-.94 2.06-2.06.94z\"/><path d=\"M17.41 7.96l-1.37-1.37c-.4-.4-.92-.59-1.43-.59-.52 0-1.04.2-1.43.59L10.3 9.45l-7.72 7.72c-.78.78-.78 2.05 0 2.83L4 21.41c.39.39.9.59 1.41.59.51 0 1.02-.2 1.41-.59l7.78-7.78 2.81-2.81c.8-.78.8-2.07 0-2.86zM5.41 20L4 18.59l7.72-7.72 1.47 1.35L5.41 20z\"/>\n",
              "  </svg>\n",
              "      </button>\n",
              "      \n",
              "  <style>\n",
              "    .colab-df-container {\n",
              "      display:flex;\n",
              "      flex-wrap:wrap;\n",
              "      gap: 12px;\n",
              "    }\n",
              "\n",
              "    .colab-df-convert {\n",
              "      background-color: #E8F0FE;\n",
              "      border: none;\n",
              "      border-radius: 50%;\n",
              "      cursor: pointer;\n",
              "      display: none;\n",
              "      fill: #1967D2;\n",
              "      height: 32px;\n",
              "      padding: 0 0 0 0;\n",
              "      width: 32px;\n",
              "    }\n",
              "\n",
              "    .colab-df-convert:hover {\n",
              "      background-color: #E2EBFA;\n",
              "      box-shadow: 0px 1px 2px rgba(60, 64, 67, 0.3), 0px 1px 3px 1px rgba(60, 64, 67, 0.15);\n",
              "      fill: #174EA6;\n",
              "    }\n",
              "\n",
              "    [theme=dark] .colab-df-convert {\n",
              "      background-color: #3B4455;\n",
              "      fill: #D2E3FC;\n",
              "    }\n",
              "\n",
              "    [theme=dark] .colab-df-convert:hover {\n",
              "      background-color: #434B5C;\n",
              "      box-shadow: 0px 1px 3px 1px rgba(0, 0, 0, 0.15);\n",
              "      filter: drop-shadow(0px 1px 2px rgba(0, 0, 0, 0.3));\n",
              "      fill: #FFFFFF;\n",
              "    }\n",
              "  </style>\n",
              "\n",
              "      <script>\n",
              "        const buttonEl =\n",
              "          document.querySelector('#df-92636361-bbbd-4c68-ad1d-7945c69c614d button.colab-df-convert');\n",
              "        buttonEl.style.display =\n",
              "          google.colab.kernel.accessAllowed ? 'block' : 'none';\n",
              "\n",
              "        async function convertToInteractive(key) {\n",
              "          const element = document.querySelector('#df-92636361-bbbd-4c68-ad1d-7945c69c614d');\n",
              "          const dataTable =\n",
              "            await google.colab.kernel.invokeFunction('convertToInteractive',\n",
              "                                                     [key], {});\n",
              "          if (!dataTable) return;\n",
              "\n",
              "          const docLinkHtml = 'Like what you see? Visit the ' +\n",
              "            '<a target=\"_blank\" href=https://colab.research.google.com/notebooks/data_table.ipynb>data table notebook</a>'\n",
              "            + ' to learn more about interactive tables.';\n",
              "          element.innerHTML = '';\n",
              "          dataTable['output_type'] = 'display_data';\n",
              "          await google.colab.output.renderOutput(dataTable, element);\n",
              "          const docLink = document.createElement('div');\n",
              "          docLink.innerHTML = docLinkHtml;\n",
              "          element.appendChild(docLink);\n",
              "        }\n",
              "      </script>\n",
              "    </div>\n",
              "  </div>\n",
              "  "
            ]
          },
          "metadata": {},
          "execution_count": 13
        }
      ]
    },
    {
      "cell_type": "code",
      "metadata": {
        "id": "3w0v3I1yyyhC",
        "outputId": "ddf75695-5dbb-4107-b7b4-bae6c0339c1e",
        "colab": {
          "base_uri": "https://localhost:8080/",
          "height": 416
        }
      },
      "source": [
        "train.head()"
      ],
      "execution_count": null,
      "outputs": [
        {
          "output_type": "execute_result",
          "data": {
            "text/plain": [
              "   Unnamed: 0                   id      conversation_id  \\\n",
              "0           0  1590796436685217792  1590796436685217792   \n",
              "1           1  1590796436685217792  1590796436685217792   \n",
              "2           2  1588258851232546817  1588256415440728064   \n",
              "3           3  1588255385118736384  1588255385118736384   \n",
              "4           4  1587846074047373313  1587846074047373312   \n",
              "\n",
              "                  created_at        date      time  timezone  \\\n",
              "0  2022-11-10 20:00:00+00:00  2022-11-10  20:00:00         0   \n",
              "1  2022-11-10 20:00:00+00:00  2022-11-10  20:00:00         0   \n",
              "2  2022-11-03 19:56:33+00:00  2022-11-03  19:56:33         0   \n",
              "3  2022-11-03 19:42:46+00:00  2022-11-03  19:42:46         0   \n",
              "4  2022-11-02 16:36:19+00:00  2022-11-02  16:36:19         0   \n",
              "\n",
              "              user_id        username               name  ... source  \\\n",
              "0  753318075886338048  healthycollier  FL Health Collier  ...    NaN   \n",
              "1  753318075886338048  healthycollier  FL Health Collier  ...    NaN   \n",
              "2  784370497412800512   charlottecofl   Charlotte County  ...    NaN   \n",
              "3            18498416   marymacelveen      MaryMacElveen  ...    NaN   \n",
              "4  753318075886338048  healthycollier  FL Health Collier  ...    NaN   \n",
              "\n",
              "  user_rt_id user_rt retweet_id  \\\n",
              "0        NaN     NaN        NaN   \n",
              "1        NaN     NaN        NaN   \n",
              "2        NaN     NaN        NaN   \n",
              "3        NaN     NaN        NaN   \n",
              "4        NaN     NaN        NaN   \n",
              "\n",
              "                                            reply_to retweet_date  translate  \\\n",
              "0                                                 []          NaN        NaN   \n",
              "1                                                 []          NaN        NaN   \n",
              "2  [{'screen_name': 'paradisefound00', 'name': 'J...          NaN        NaN   \n",
              "3                                                 []          NaN        NaN   \n",
              "4                                                 []          NaN        NaN   \n",
              "\n",
              "   trans_src  trans_dest index  \n",
              "0        NaN         NaN     1  \n",
              "1        NaN         NaN     2  \n",
              "2        NaN         NaN     3  \n",
              "3        NaN         NaN     4  \n",
              "4        NaN         NaN     5  \n",
              "\n",
              "[5 rows x 38 columns]"
            ],
            "text/html": [
              "\n",
              "  <div id=\"df-455640c6-c39f-4ea7-8af0-27d9d58ca3f1\">\n",
              "    <div class=\"colab-df-container\">\n",
              "      <div>\n",
              "<style scoped>\n",
              "    .dataframe tbody tr th:only-of-type {\n",
              "        vertical-align: middle;\n",
              "    }\n",
              "\n",
              "    .dataframe tbody tr th {\n",
              "        vertical-align: top;\n",
              "    }\n",
              "\n",
              "    .dataframe thead th {\n",
              "        text-align: right;\n",
              "    }\n",
              "</style>\n",
              "<table border=\"1\" class=\"dataframe\">\n",
              "  <thead>\n",
              "    <tr style=\"text-align: right;\">\n",
              "      <th></th>\n",
              "      <th>Unnamed: 0</th>\n",
              "      <th>id</th>\n",
              "      <th>conversation_id</th>\n",
              "      <th>created_at</th>\n",
              "      <th>date</th>\n",
              "      <th>time</th>\n",
              "      <th>timezone</th>\n",
              "      <th>user_id</th>\n",
              "      <th>username</th>\n",
              "      <th>name</th>\n",
              "      <th>...</th>\n",
              "      <th>source</th>\n",
              "      <th>user_rt_id</th>\n",
              "      <th>user_rt</th>\n",
              "      <th>retweet_id</th>\n",
              "      <th>reply_to</th>\n",
              "      <th>retweet_date</th>\n",
              "      <th>translate</th>\n",
              "      <th>trans_src</th>\n",
              "      <th>trans_dest</th>\n",
              "      <th>index</th>\n",
              "    </tr>\n",
              "  </thead>\n",
              "  <tbody>\n",
              "    <tr>\n",
              "      <th>0</th>\n",
              "      <td>0</td>\n",
              "      <td>1590796436685217792</td>\n",
              "      <td>1590796436685217792</td>\n",
              "      <td>2022-11-10 20:00:00+00:00</td>\n",
              "      <td>2022-11-10</td>\n",
              "      <td>20:00:00</td>\n",
              "      <td>0</td>\n",
              "      <td>753318075886338048</td>\n",
              "      <td>healthycollier</td>\n",
              "      <td>FL Health Collier</td>\n",
              "      <td>...</td>\n",
              "      <td>NaN</td>\n",
              "      <td>NaN</td>\n",
              "      <td>NaN</td>\n",
              "      <td>NaN</td>\n",
              "      <td>[]</td>\n",
              "      <td>NaN</td>\n",
              "      <td>NaN</td>\n",
              "      <td>NaN</td>\n",
              "      <td>NaN</td>\n",
              "      <td>1</td>\n",
              "    </tr>\n",
              "    <tr>\n",
              "      <th>1</th>\n",
              "      <td>1</td>\n",
              "      <td>1590796436685217792</td>\n",
              "      <td>1590796436685217792</td>\n",
              "      <td>2022-11-10 20:00:00+00:00</td>\n",
              "      <td>2022-11-10</td>\n",
              "      <td>20:00:00</td>\n",
              "      <td>0</td>\n",
              "      <td>753318075886338048</td>\n",
              "      <td>healthycollier</td>\n",
              "      <td>FL Health Collier</td>\n",
              "      <td>...</td>\n",
              "      <td>NaN</td>\n",
              "      <td>NaN</td>\n",
              "      <td>NaN</td>\n",
              "      <td>NaN</td>\n",
              "      <td>[]</td>\n",
              "      <td>NaN</td>\n",
              "      <td>NaN</td>\n",
              "      <td>NaN</td>\n",
              "      <td>NaN</td>\n",
              "      <td>2</td>\n",
              "    </tr>\n",
              "    <tr>\n",
              "      <th>2</th>\n",
              "      <td>2</td>\n",
              "      <td>1588258851232546817</td>\n",
              "      <td>1588256415440728064</td>\n",
              "      <td>2022-11-03 19:56:33+00:00</td>\n",
              "      <td>2022-11-03</td>\n",
              "      <td>19:56:33</td>\n",
              "      <td>0</td>\n",
              "      <td>784370497412800512</td>\n",
              "      <td>charlottecofl</td>\n",
              "      <td>Charlotte County</td>\n",
              "      <td>...</td>\n",
              "      <td>NaN</td>\n",
              "      <td>NaN</td>\n",
              "      <td>NaN</td>\n",
              "      <td>NaN</td>\n",
              "      <td>[{'screen_name': 'paradisefound00', 'name': 'J...</td>\n",
              "      <td>NaN</td>\n",
              "      <td>NaN</td>\n",
              "      <td>NaN</td>\n",
              "      <td>NaN</td>\n",
              "      <td>3</td>\n",
              "    </tr>\n",
              "    <tr>\n",
              "      <th>3</th>\n",
              "      <td>3</td>\n",
              "      <td>1588255385118736384</td>\n",
              "      <td>1588255385118736384</td>\n",
              "      <td>2022-11-03 19:42:46+00:00</td>\n",
              "      <td>2022-11-03</td>\n",
              "      <td>19:42:46</td>\n",
              "      <td>0</td>\n",
              "      <td>18498416</td>\n",
              "      <td>marymacelveen</td>\n",
              "      <td>MaryMacElveen</td>\n",
              "      <td>...</td>\n",
              "      <td>NaN</td>\n",
              "      <td>NaN</td>\n",
              "      <td>NaN</td>\n",
              "      <td>NaN</td>\n",
              "      <td>[]</td>\n",
              "      <td>NaN</td>\n",
              "      <td>NaN</td>\n",
              "      <td>NaN</td>\n",
              "      <td>NaN</td>\n",
              "      <td>4</td>\n",
              "    </tr>\n",
              "    <tr>\n",
              "      <th>4</th>\n",
              "      <td>4</td>\n",
              "      <td>1587846074047373313</td>\n",
              "      <td>1587846074047373312</td>\n",
              "      <td>2022-11-02 16:36:19+00:00</td>\n",
              "      <td>2022-11-02</td>\n",
              "      <td>16:36:19</td>\n",
              "      <td>0</td>\n",
              "      <td>753318075886338048</td>\n",
              "      <td>healthycollier</td>\n",
              "      <td>FL Health Collier</td>\n",
              "      <td>...</td>\n",
              "      <td>NaN</td>\n",
              "      <td>NaN</td>\n",
              "      <td>NaN</td>\n",
              "      <td>NaN</td>\n",
              "      <td>[]</td>\n",
              "      <td>NaN</td>\n",
              "      <td>NaN</td>\n",
              "      <td>NaN</td>\n",
              "      <td>NaN</td>\n",
              "      <td>5</td>\n",
              "    </tr>\n",
              "  </tbody>\n",
              "</table>\n",
              "<p>5 rows × 38 columns</p>\n",
              "</div>\n",
              "      <button class=\"colab-df-convert\" onclick=\"convertToInteractive('df-455640c6-c39f-4ea7-8af0-27d9d58ca3f1')\"\n",
              "              title=\"Convert this dataframe to an interactive table.\"\n",
              "              style=\"display:none;\">\n",
              "        \n",
              "  <svg xmlns=\"http://www.w3.org/2000/svg\" height=\"24px\"viewBox=\"0 0 24 24\"\n",
              "       width=\"24px\">\n",
              "    <path d=\"M0 0h24v24H0V0z\" fill=\"none\"/>\n",
              "    <path d=\"M18.56 5.44l.94 2.06.94-2.06 2.06-.94-2.06-.94-.94-2.06-.94 2.06-2.06.94zm-11 1L8.5 8.5l.94-2.06 2.06-.94-2.06-.94L8.5 2.5l-.94 2.06-2.06.94zm10 10l.94 2.06.94-2.06 2.06-.94-2.06-.94-.94-2.06-.94 2.06-2.06.94z\"/><path d=\"M17.41 7.96l-1.37-1.37c-.4-.4-.92-.59-1.43-.59-.52 0-1.04.2-1.43.59L10.3 9.45l-7.72 7.72c-.78.78-.78 2.05 0 2.83L4 21.41c.39.39.9.59 1.41.59.51 0 1.02-.2 1.41-.59l7.78-7.78 2.81-2.81c.8-.78.8-2.07 0-2.86zM5.41 20L4 18.59l7.72-7.72 1.47 1.35L5.41 20z\"/>\n",
              "  </svg>\n",
              "      </button>\n",
              "      \n",
              "  <style>\n",
              "    .colab-df-container {\n",
              "      display:flex;\n",
              "      flex-wrap:wrap;\n",
              "      gap: 12px;\n",
              "    }\n",
              "\n",
              "    .colab-df-convert {\n",
              "      background-color: #E8F0FE;\n",
              "      border: none;\n",
              "      border-radius: 50%;\n",
              "      cursor: pointer;\n",
              "      display: none;\n",
              "      fill: #1967D2;\n",
              "      height: 32px;\n",
              "      padding: 0 0 0 0;\n",
              "      width: 32px;\n",
              "    }\n",
              "\n",
              "    .colab-df-convert:hover {\n",
              "      background-color: #E2EBFA;\n",
              "      box-shadow: 0px 1px 2px rgba(60, 64, 67, 0.3), 0px 1px 3px 1px rgba(60, 64, 67, 0.15);\n",
              "      fill: #174EA6;\n",
              "    }\n",
              "\n",
              "    [theme=dark] .colab-df-convert {\n",
              "      background-color: #3B4455;\n",
              "      fill: #D2E3FC;\n",
              "    }\n",
              "\n",
              "    [theme=dark] .colab-df-convert:hover {\n",
              "      background-color: #434B5C;\n",
              "      box-shadow: 0px 1px 3px 1px rgba(0, 0, 0, 0.15);\n",
              "      filter: drop-shadow(0px 1px 2px rgba(0, 0, 0, 0.3));\n",
              "      fill: #FFFFFF;\n",
              "    }\n",
              "  </style>\n",
              "\n",
              "      <script>\n",
              "        const buttonEl =\n",
              "          document.querySelector('#df-455640c6-c39f-4ea7-8af0-27d9d58ca3f1 button.colab-df-convert');\n",
              "        buttonEl.style.display =\n",
              "          google.colab.kernel.accessAllowed ? 'block' : 'none';\n",
              "\n",
              "        async function convertToInteractive(key) {\n",
              "          const element = document.querySelector('#df-455640c6-c39f-4ea7-8af0-27d9d58ca3f1');\n",
              "          const dataTable =\n",
              "            await google.colab.kernel.invokeFunction('convertToInteractive',\n",
              "                                                     [key], {});\n",
              "          if (!dataTable) return;\n",
              "\n",
              "          const docLinkHtml = 'Like what you see? Visit the ' +\n",
              "            '<a target=\"_blank\" href=https://colab.research.google.com/notebooks/data_table.ipynb>data table notebook</a>'\n",
              "            + ' to learn more about interactive tables.';\n",
              "          element.innerHTML = '';\n",
              "          dataTable['output_type'] = 'display_data';\n",
              "          await google.colab.output.renderOutput(dataTable, element);\n",
              "          const docLink = document.createElement('div');\n",
              "          docLink.innerHTML = docLinkHtml;\n",
              "          element.appendChild(docLink);\n",
              "        }\n",
              "      </script>\n",
              "    </div>\n",
              "  </div>\n",
              "  "
            ]
          },
          "metadata": {},
          "execution_count": 14
        }
      ]
    },
    {
      "cell_type": "code",
      "metadata": {
        "id": "bsneTGF6y0bO",
        "outputId": "8f375db2-58ca-4568-c8c5-e3a7ceb539d9",
        "colab": {
          "base_uri": "https://localhost:8080/"
        }
      },
      "source": [
        "# checking for null values in the train and test data\n",
        "\n",
        "train.isnull().any()\n",
        "test.isnull().any()"
      ],
      "execution_count": null,
      "outputs": [
        {
          "output_type": "execute_result",
          "data": {
            "text/plain": [
              "Unnamed: 0         False\n",
              "id                 False\n",
              "conversation_id    False\n",
              "created_at         False\n",
              "date               False\n",
              "time               False\n",
              "timezone           False\n",
              "user_id            False\n",
              "username           False\n",
              "name                True\n",
              "place               True\n",
              "tweet              False\n",
              "language           False\n",
              "mentions           False\n",
              "urls               False\n",
              "photos             False\n",
              "replies_count      False\n",
              "retweets_count     False\n",
              "likes_count        False\n",
              "hashtags           False\n",
              "cashtags           False\n",
              "link               False\n",
              "retweet            False\n",
              "quote_url           True\n",
              "video              False\n",
              "thumbnail           True\n",
              "near                True\n",
              "geo                 True\n",
              "source              True\n",
              "user_rt_id          True\n",
              "user_rt             True\n",
              "retweet_id          True\n",
              "reply_to           False\n",
              "retweet_date        True\n",
              "translate           True\n",
              "trans_src           True\n",
              "trans_dest          True\n",
              "index              False\n",
              "dtype: bool"
            ]
          },
          "metadata": {},
          "execution_count": 15
        }
      ]
    },
    {
      "cell_type": "code",
      "source": [
        "display(test.dtypes)"
      ],
      "metadata": {
        "colab": {
          "base_uri": "https://localhost:8080/",
          "height": 680
        },
        "id": "bPM4kkei-w-w",
        "outputId": "d19da31b-7646-4dfb-e321-2a8f6a1a1c07"
      },
      "execution_count": null,
      "outputs": [
        {
          "output_type": "display_data",
          "data": {
            "text/plain": [
              "Unnamed: 0           int64\n",
              "id                   int64\n",
              "conversation_id      int64\n",
              "created_at          object\n",
              "date                object\n",
              "time                object\n",
              "timezone             int64\n",
              "user_id              int64\n",
              "username            object\n",
              "name                object\n",
              "place               object\n",
              "tweet               object\n",
              "language            object\n",
              "mentions            object\n",
              "urls                object\n",
              "photos              object\n",
              "replies_count        int64\n",
              "retweets_count       int64\n",
              "likes_count          int64\n",
              "hashtags            object\n",
              "cashtags            object\n",
              "link                object\n",
              "retweet               bool\n",
              "quote_url           object\n",
              "video                int64\n",
              "thumbnail           object\n",
              "near               float64\n",
              "geo                float64\n",
              "source             float64\n",
              "user_rt_id         float64\n",
              "user_rt            float64\n",
              "retweet_id         float64\n",
              "reply_to            object\n",
              "retweet_date       float64\n",
              "translate          float64\n",
              "trans_src          float64\n",
              "trans_dest         float64\n",
              "index                int64\n",
              "dtype: object"
            ]
          },
          "metadata": {}
        }
      ]
    },
    {
      "cell_type": "markdown",
      "source": [
        "**CLEANING DATASET **"
      ],
      "metadata": {
        "id": "4AhP9Xa805EC"
      }
    },
    {
      "cell_type": "code",
      "source": [
        "for df in [train,test]:\n",
        "    df['tweet'] = df['tweet'].apply(lambda x:re.sub(r'https?://[A-Za-z0-9/:.]+','*',x))\n",
        "    df['tweet'] = df['tweet'].apply(lambda x:re.sub(r'@[A-Za-z0-9/:._]+','@user',x))\n",
        "    df['tweet'] = df['tweet'].apply(lambda x:re.sub(r'[0-9]+','0',x))\n",
        "    df['tweet'] = df['tweet'].apply(lambda x:re.sub(r'\\s+',' ',x))\n",
        "    df['hashtags'] = df['hashtags'].str.replace('%20','_')\n",
        "    df['tweet'] = df['tweet'] + df['tweet'].apply(lambda x: ' #' + x if not(x is np.nan) else '' )\n",
        "\n"
      ],
      "metadata": {
        "id": "EWnFFnH60oot"
      },
      "execution_count": null,
      "outputs": []
    },
    {
      "cell_type": "code",
      "source": [
        "len(test)"
      ],
      "metadata": {
        "colab": {
          "base_uri": "https://localhost:8080/"
        },
        "id": "QlTQZ5JoujLe",
        "outputId": "ece7f599-2192-460f-f188-a42ae2c5e068"
      },
      "execution_count": null,
      "outputs": [
        {
          "output_type": "execute_result",
          "data": {
            "text/plain": [
              "43391"
            ]
          },
          "metadata": {},
          "execution_count": 11
        }
      ]
    },
    {
      "cell_type": "markdown",
      "source": [
        "**SELECTING REQUIRED COLUMNS**"
      ],
      "metadata": {
        "id": "mjTa8kZ8AKAA"
      }
    },
    {
      "cell_type": "code",
      "source": [
        "train=train[[\"index\",\"id\",\"tweet\",\"hashtags\",\"video\"]]\n",
        "test=test[[\"index\",\"id\",\"tweet\",\"hashtags\",\"video\"]]"
      ],
      "metadata": {
        "id": "x3Jx59uo_CLI"
      },
      "execution_count": null,
      "outputs": []
    },
    {
      "cell_type": "markdown",
      "source": [
        "**checking for positive sentiments in the train data**"
      ],
      "metadata": {
        "id": "tbYmcV8T1Bil"
      }
    },
    {
      "cell_type": "code",
      "metadata": {
        "id": "mgNXHw6zy2gW",
        "outputId": "3c411cb9-2c34-49b9-b977-8375ab988dca",
        "colab": {
          "base_uri": "https://localhost:8080/",
          "height": 359
        }
      },
      "source": [
        "\n",
        "train[train['video'] == 1].head(10)"
      ],
      "execution_count": null,
      "outputs": [
        {
          "output_type": "execute_result",
          "data": {
            "text/plain": [
              "    index                   id  \\\n",
              "0       1  1590796436685217792   \n",
              "1       2  1590796436685217792   \n",
              "4       5  1587846074047373313   \n",
              "10     11  1586922933158612994   \n",
              "11     12  1586922154850934784   \n",
              "12     13  1586913606528114689   \n",
              "15     16  1586070295366012930   \n",
              "16     17  1585989058177961984   \n",
              "17     18  1585760823401746432   \n",
              "20     21  1584949200957030401   \n",
              "\n",
              "                                                tweet  \\\n",
              "0   Do you need to talk to someone after #Hurrican...   \n",
              "1   Do you need to talk to someone after #Hurrican...   \n",
              "4   Take a few minutes to listen to Kristine Holli...   \n",
              "10  I tweet fast. I make typos. (A lot) At least I...   \n",
              "11  I’m the kinda guy who Retweets pictures of his...   \n",
              "12  POST IAN update. I made FLORIDA my home nearly...   \n",
              "15  Do you need to talk to someone after #Hurrican...   \n",
              "16  POV: 0% of our county’s stops signs need corre...   \n",
              "17  So happy to be at one of my favorite events, t...   \n",
              "20  Direct aid is the essence of UAF. Thank you fa...   \n",
              "\n",
              "                                             hashtags  video  \n",
              "0                     ['hurricanelan', 'lanrecovery']      1  \n",
              "1                     ['hurricanelan', 'lanrecovery']      1  \n",
              "4                                    ['hurricanelan']      1  \n",
              "10  ['trump', 'fib', 'republican', 'conservative',...      1  \n",
              "11  ['trump', 'fib', 'republican', 'conservative',...      1  \n",
              "12                                   ['hurricanelan']      1  \n",
              "15                    ['hurricanelan', 'lanrecovery']      1  \n",
              "16                                   ['hurricanelan']      1  \n",
              "17                                   ['hurricanelan']      1  \n",
              "20                                   ['hurricanelan']      1  "
            ],
            "text/html": [
              "\n",
              "  <div id=\"df-2861c5b2-9d60-45d0-b50f-671b7f7455eb\">\n",
              "    <div class=\"colab-df-container\">\n",
              "      <div>\n",
              "<style scoped>\n",
              "    .dataframe tbody tr th:only-of-type {\n",
              "        vertical-align: middle;\n",
              "    }\n",
              "\n",
              "    .dataframe tbody tr th {\n",
              "        vertical-align: top;\n",
              "    }\n",
              "\n",
              "    .dataframe thead th {\n",
              "        text-align: right;\n",
              "    }\n",
              "</style>\n",
              "<table border=\"1\" class=\"dataframe\">\n",
              "  <thead>\n",
              "    <tr style=\"text-align: right;\">\n",
              "      <th></th>\n",
              "      <th>index</th>\n",
              "      <th>id</th>\n",
              "      <th>tweet</th>\n",
              "      <th>hashtags</th>\n",
              "      <th>video</th>\n",
              "    </tr>\n",
              "  </thead>\n",
              "  <tbody>\n",
              "    <tr>\n",
              "      <th>0</th>\n",
              "      <td>1</td>\n",
              "      <td>1590796436685217792</td>\n",
              "      <td>Do you need to talk to someone after #Hurrican...</td>\n",
              "      <td>['hurricanelan', 'lanrecovery']</td>\n",
              "      <td>1</td>\n",
              "    </tr>\n",
              "    <tr>\n",
              "      <th>1</th>\n",
              "      <td>2</td>\n",
              "      <td>1590796436685217792</td>\n",
              "      <td>Do you need to talk to someone after #Hurrican...</td>\n",
              "      <td>['hurricanelan', 'lanrecovery']</td>\n",
              "      <td>1</td>\n",
              "    </tr>\n",
              "    <tr>\n",
              "      <th>4</th>\n",
              "      <td>5</td>\n",
              "      <td>1587846074047373313</td>\n",
              "      <td>Take a few minutes to listen to Kristine Holli...</td>\n",
              "      <td>['hurricanelan']</td>\n",
              "      <td>1</td>\n",
              "    </tr>\n",
              "    <tr>\n",
              "      <th>10</th>\n",
              "      <td>11</td>\n",
              "      <td>1586922933158612994</td>\n",
              "      <td>I tweet fast. I make typos. (A lot) At least I...</td>\n",
              "      <td>['trump', 'fib', 'republican', 'conservative',...</td>\n",
              "      <td>1</td>\n",
              "    </tr>\n",
              "    <tr>\n",
              "      <th>11</th>\n",
              "      <td>12</td>\n",
              "      <td>1586922154850934784</td>\n",
              "      <td>I’m the kinda guy who Retweets pictures of his...</td>\n",
              "      <td>['trump', 'fib', 'republican', 'conservative',...</td>\n",
              "      <td>1</td>\n",
              "    </tr>\n",
              "    <tr>\n",
              "      <th>12</th>\n",
              "      <td>13</td>\n",
              "      <td>1586913606528114689</td>\n",
              "      <td>POST IAN update. I made FLORIDA my home nearly...</td>\n",
              "      <td>['hurricanelan']</td>\n",
              "      <td>1</td>\n",
              "    </tr>\n",
              "    <tr>\n",
              "      <th>15</th>\n",
              "      <td>16</td>\n",
              "      <td>1586070295366012930</td>\n",
              "      <td>Do you need to talk to someone after #Hurrican...</td>\n",
              "      <td>['hurricanelan', 'lanrecovery']</td>\n",
              "      <td>1</td>\n",
              "    </tr>\n",
              "    <tr>\n",
              "      <th>16</th>\n",
              "      <td>17</td>\n",
              "      <td>1585989058177961984</td>\n",
              "      <td>POV: 0% of our county’s stops signs need corre...</td>\n",
              "      <td>['hurricanelan']</td>\n",
              "      <td>1</td>\n",
              "    </tr>\n",
              "    <tr>\n",
              "      <th>17</th>\n",
              "      <td>18</td>\n",
              "      <td>1585760823401746432</td>\n",
              "      <td>So happy to be at one of my favorite events, t...</td>\n",
              "      <td>['hurricanelan']</td>\n",
              "      <td>1</td>\n",
              "    </tr>\n",
              "    <tr>\n",
              "      <th>20</th>\n",
              "      <td>21</td>\n",
              "      <td>1584949200957030401</td>\n",
              "      <td>Direct aid is the essence of UAF. Thank you fa...</td>\n",
              "      <td>['hurricanelan']</td>\n",
              "      <td>1</td>\n",
              "    </tr>\n",
              "  </tbody>\n",
              "</table>\n",
              "</div>\n",
              "      <button class=\"colab-df-convert\" onclick=\"convertToInteractive('df-2861c5b2-9d60-45d0-b50f-671b7f7455eb')\"\n",
              "              title=\"Convert this dataframe to an interactive table.\"\n",
              "              style=\"display:none;\">\n",
              "        \n",
              "  <svg xmlns=\"http://www.w3.org/2000/svg\" height=\"24px\"viewBox=\"0 0 24 24\"\n",
              "       width=\"24px\">\n",
              "    <path d=\"M0 0h24v24H0V0z\" fill=\"none\"/>\n",
              "    <path d=\"M18.56 5.44l.94 2.06.94-2.06 2.06-.94-2.06-.94-.94-2.06-.94 2.06-2.06.94zm-11 1L8.5 8.5l.94-2.06 2.06-.94-2.06-.94L8.5 2.5l-.94 2.06-2.06.94zm10 10l.94 2.06.94-2.06 2.06-.94-2.06-.94-.94-2.06-.94 2.06-2.06.94z\"/><path d=\"M17.41 7.96l-1.37-1.37c-.4-.4-.92-.59-1.43-.59-.52 0-1.04.2-1.43.59L10.3 9.45l-7.72 7.72c-.78.78-.78 2.05 0 2.83L4 21.41c.39.39.9.59 1.41.59.51 0 1.02-.2 1.41-.59l7.78-7.78 2.81-2.81c.8-.78.8-2.07 0-2.86zM5.41 20L4 18.59l7.72-7.72 1.47 1.35L5.41 20z\"/>\n",
              "  </svg>\n",
              "      </button>\n",
              "      \n",
              "  <style>\n",
              "    .colab-df-container {\n",
              "      display:flex;\n",
              "      flex-wrap:wrap;\n",
              "      gap: 12px;\n",
              "    }\n",
              "\n",
              "    .colab-df-convert {\n",
              "      background-color: #E8F0FE;\n",
              "      border: none;\n",
              "      border-radius: 50%;\n",
              "      cursor: pointer;\n",
              "      display: none;\n",
              "      fill: #1967D2;\n",
              "      height: 32px;\n",
              "      padding: 0 0 0 0;\n",
              "      width: 32px;\n",
              "    }\n",
              "\n",
              "    .colab-df-convert:hover {\n",
              "      background-color: #E2EBFA;\n",
              "      box-shadow: 0px 1px 2px rgba(60, 64, 67, 0.3), 0px 1px 3px 1px rgba(60, 64, 67, 0.15);\n",
              "      fill: #174EA6;\n",
              "    }\n",
              "\n",
              "    [theme=dark] .colab-df-convert {\n",
              "      background-color: #3B4455;\n",
              "      fill: #D2E3FC;\n",
              "    }\n",
              "\n",
              "    [theme=dark] .colab-df-convert:hover {\n",
              "      background-color: #434B5C;\n",
              "      box-shadow: 0px 1px 3px 1px rgba(0, 0, 0, 0.15);\n",
              "      filter: drop-shadow(0px 1px 2px rgba(0, 0, 0, 0.3));\n",
              "      fill: #FFFFFF;\n",
              "    }\n",
              "  </style>\n",
              "\n",
              "      <script>\n",
              "        const buttonEl =\n",
              "          document.querySelector('#df-2861c5b2-9d60-45d0-b50f-671b7f7455eb button.colab-df-convert');\n",
              "        buttonEl.style.display =\n",
              "          google.colab.kernel.accessAllowed ? 'block' : 'none';\n",
              "\n",
              "        async function convertToInteractive(key) {\n",
              "          const element = document.querySelector('#df-2861c5b2-9d60-45d0-b50f-671b7f7455eb');\n",
              "          const dataTable =\n",
              "            await google.colab.kernel.invokeFunction('convertToInteractive',\n",
              "                                                     [key], {});\n",
              "          if (!dataTable) return;\n",
              "\n",
              "          const docLinkHtml = 'Like what you see? Visit the ' +\n",
              "            '<a target=\"_blank\" href=https://colab.research.google.com/notebooks/data_table.ipynb>data table notebook</a>'\n",
              "            + ' to learn more about interactive tables.';\n",
              "          element.innerHTML = '';\n",
              "          dataTable['output_type'] = 'display_data';\n",
              "          await google.colab.output.renderOutput(dataTable, element);\n",
              "          const docLink = document.createElement('div');\n",
              "          docLink.innerHTML = docLinkHtml;\n",
              "          element.appendChild(docLink);\n",
              "        }\n",
              "      </script>\n",
              "    </div>\n",
              "  </div>\n",
              "  "
            ]
          },
          "metadata": {},
          "execution_count": 13
        }
      ]
    },
    {
      "cell_type": "code",
      "metadata": {
        "id": "ofnzWOfMzBVM",
        "outputId": "e0e5654a-ec8a-4732-c473-100cb0b13590",
        "colab": {
          "base_uri": "https://localhost:8080/",
          "height": 359
        }
      },
      "source": [
        "#checking for negetive labels in the train data\n",
        "\n",
        "train[train['video'] == 0].head(10)\n"
      ],
      "execution_count": null,
      "outputs": [
        {
          "output_type": "execute_result",
          "data": {
            "text/plain": [
              "    index                   id  \\\n",
              "2       3  1588258851232546817   \n",
              "3       4  1588255385118736384   \n",
              "5       6  1587428284467482624   \n",
              "6       7  1587181267891748870   \n",
              "7       8  1587160699607945217   \n",
              "8       9  1587135713757233152   \n",
              "9      10  1587122239823937536   \n",
              "13     14  1586864374714613760   \n",
              "14     15  1586719661500112896   \n",
              "18     19  1585657119738658816   \n",
              "\n",
              "                                                tweet  \\\n",
              "2   @user 0% of our stops signs in Charlotte Count...   \n",
              "3   Normally I love our thunder and lightening sto...   \n",
              "5   In support of the schools and children impacte...   \n",
              "6   @user Being from Louisiana and a working broke...   \n",
              "7   @user, technology created in a UF lab, is help...   \n",
              "8   The #woke mob is coming for country music star...   \n",
              "9   In support of the schools and children impacte...   \n",
              "13  Let’s get a pulse on this right now. Who are y...   \n",
              "14  🚨REMINDER: Pre-registration and phone intervie...   \n",
              "18  @user @user Hello @user Good afternoon. My nam...   \n",
              "\n",
              "                                             hashtags  video  \n",
              "2                                    ['hurricanelan']      0  \n",
              "3                                    ['hurricanelan']      0  \n",
              "5                     ['hurricanelan', 'bethebranch']      0  \n",
              "6                                    ['hurricanelan']      0  \n",
              "7                ['hurricanelan', 'uf', 'ufinnovate']      0  \n",
              "8                            ['woke', 'hurricanelan']      0  \n",
              "9                                    ['hurricanelan']      0  \n",
              "13  ['trump', 'fib', 'republican', 'conservative',...      0  \n",
              "14                                   ['hurricanelan']      0  \n",
              "18                                   ['hurricanelan']      0  "
            ],
            "text/html": [
              "\n",
              "  <div id=\"df-72f6f889-e5d1-4c26-8885-67d473c904b6\">\n",
              "    <div class=\"colab-df-container\">\n",
              "      <div>\n",
              "<style scoped>\n",
              "    .dataframe tbody tr th:only-of-type {\n",
              "        vertical-align: middle;\n",
              "    }\n",
              "\n",
              "    .dataframe tbody tr th {\n",
              "        vertical-align: top;\n",
              "    }\n",
              "\n",
              "    .dataframe thead th {\n",
              "        text-align: right;\n",
              "    }\n",
              "</style>\n",
              "<table border=\"1\" class=\"dataframe\">\n",
              "  <thead>\n",
              "    <tr style=\"text-align: right;\">\n",
              "      <th></th>\n",
              "      <th>index</th>\n",
              "      <th>id</th>\n",
              "      <th>tweet</th>\n",
              "      <th>hashtags</th>\n",
              "      <th>video</th>\n",
              "    </tr>\n",
              "  </thead>\n",
              "  <tbody>\n",
              "    <tr>\n",
              "      <th>2</th>\n",
              "      <td>3</td>\n",
              "      <td>1588258851232546817</td>\n",
              "      <td>@user 0% of our stops signs in Charlotte Count...</td>\n",
              "      <td>['hurricanelan']</td>\n",
              "      <td>0</td>\n",
              "    </tr>\n",
              "    <tr>\n",
              "      <th>3</th>\n",
              "      <td>4</td>\n",
              "      <td>1588255385118736384</td>\n",
              "      <td>Normally I love our thunder and lightening sto...</td>\n",
              "      <td>['hurricanelan']</td>\n",
              "      <td>0</td>\n",
              "    </tr>\n",
              "    <tr>\n",
              "      <th>5</th>\n",
              "      <td>6</td>\n",
              "      <td>1587428284467482624</td>\n",
              "      <td>In support of the schools and children impacte...</td>\n",
              "      <td>['hurricanelan', 'bethebranch']</td>\n",
              "      <td>0</td>\n",
              "    </tr>\n",
              "    <tr>\n",
              "      <th>6</th>\n",
              "      <td>7</td>\n",
              "      <td>1587181267891748870</td>\n",
              "      <td>@user Being from Louisiana and a working broke...</td>\n",
              "      <td>['hurricanelan']</td>\n",
              "      <td>0</td>\n",
              "    </tr>\n",
              "    <tr>\n",
              "      <th>7</th>\n",
              "      <td>8</td>\n",
              "      <td>1587160699607945217</td>\n",
              "      <td>@user, technology created in a UF lab, is help...</td>\n",
              "      <td>['hurricanelan', 'uf', 'ufinnovate']</td>\n",
              "      <td>0</td>\n",
              "    </tr>\n",
              "    <tr>\n",
              "      <th>8</th>\n",
              "      <td>9</td>\n",
              "      <td>1587135713757233152</td>\n",
              "      <td>The #woke mob is coming for country music star...</td>\n",
              "      <td>['woke', 'hurricanelan']</td>\n",
              "      <td>0</td>\n",
              "    </tr>\n",
              "    <tr>\n",
              "      <th>9</th>\n",
              "      <td>10</td>\n",
              "      <td>1587122239823937536</td>\n",
              "      <td>In support of the schools and children impacte...</td>\n",
              "      <td>['hurricanelan']</td>\n",
              "      <td>0</td>\n",
              "    </tr>\n",
              "    <tr>\n",
              "      <th>13</th>\n",
              "      <td>14</td>\n",
              "      <td>1586864374714613760</td>\n",
              "      <td>Let’s get a pulse on this right now. Who are y...</td>\n",
              "      <td>['trump', 'fib', 'republican', 'conservative',...</td>\n",
              "      <td>0</td>\n",
              "    </tr>\n",
              "    <tr>\n",
              "      <th>14</th>\n",
              "      <td>15</td>\n",
              "      <td>1586719661500112896</td>\n",
              "      <td>🚨REMINDER: Pre-registration and phone intervie...</td>\n",
              "      <td>['hurricanelan']</td>\n",
              "      <td>0</td>\n",
              "    </tr>\n",
              "    <tr>\n",
              "      <th>18</th>\n",
              "      <td>19</td>\n",
              "      <td>1585657119738658816</td>\n",
              "      <td>@user @user Hello @user Good afternoon. My nam...</td>\n",
              "      <td>['hurricanelan']</td>\n",
              "      <td>0</td>\n",
              "    </tr>\n",
              "  </tbody>\n",
              "</table>\n",
              "</div>\n",
              "      <button class=\"colab-df-convert\" onclick=\"convertToInteractive('df-72f6f889-e5d1-4c26-8885-67d473c904b6')\"\n",
              "              title=\"Convert this dataframe to an interactive table.\"\n",
              "              style=\"display:none;\">\n",
              "        \n",
              "  <svg xmlns=\"http://www.w3.org/2000/svg\" height=\"24px\"viewBox=\"0 0 24 24\"\n",
              "       width=\"24px\">\n",
              "    <path d=\"M0 0h24v24H0V0z\" fill=\"none\"/>\n",
              "    <path d=\"M18.56 5.44l.94 2.06.94-2.06 2.06-.94-2.06-.94-.94-2.06-.94 2.06-2.06.94zm-11 1L8.5 8.5l.94-2.06 2.06-.94-2.06-.94L8.5 2.5l-.94 2.06-2.06.94zm10 10l.94 2.06.94-2.06 2.06-.94-2.06-.94-.94-2.06-.94 2.06-2.06.94z\"/><path d=\"M17.41 7.96l-1.37-1.37c-.4-.4-.92-.59-1.43-.59-.52 0-1.04.2-1.43.59L10.3 9.45l-7.72 7.72c-.78.78-.78 2.05 0 2.83L4 21.41c.39.39.9.59 1.41.59.51 0 1.02-.2 1.41-.59l7.78-7.78 2.81-2.81c.8-.78.8-2.07 0-2.86zM5.41 20L4 18.59l7.72-7.72 1.47 1.35L5.41 20z\"/>\n",
              "  </svg>\n",
              "      </button>\n",
              "      \n",
              "  <style>\n",
              "    .colab-df-container {\n",
              "      display:flex;\n",
              "      flex-wrap:wrap;\n",
              "      gap: 12px;\n",
              "    }\n",
              "\n",
              "    .colab-df-convert {\n",
              "      background-color: #E8F0FE;\n",
              "      border: none;\n",
              "      border-radius: 50%;\n",
              "      cursor: pointer;\n",
              "      display: none;\n",
              "      fill: #1967D2;\n",
              "      height: 32px;\n",
              "      padding: 0 0 0 0;\n",
              "      width: 32px;\n",
              "    }\n",
              "\n",
              "    .colab-df-convert:hover {\n",
              "      background-color: #E2EBFA;\n",
              "      box-shadow: 0px 1px 2px rgba(60, 64, 67, 0.3), 0px 1px 3px 1px rgba(60, 64, 67, 0.15);\n",
              "      fill: #174EA6;\n",
              "    }\n",
              "\n",
              "    [theme=dark] .colab-df-convert {\n",
              "      background-color: #3B4455;\n",
              "      fill: #D2E3FC;\n",
              "    }\n",
              "\n",
              "    [theme=dark] .colab-df-convert:hover {\n",
              "      background-color: #434B5C;\n",
              "      box-shadow: 0px 1px 3px 1px rgba(0, 0, 0, 0.15);\n",
              "      filter: drop-shadow(0px 1px 2px rgba(0, 0, 0, 0.3));\n",
              "      fill: #FFFFFF;\n",
              "    }\n",
              "  </style>\n",
              "\n",
              "      <script>\n",
              "        const buttonEl =\n",
              "          document.querySelector('#df-72f6f889-e5d1-4c26-8885-67d473c904b6 button.colab-df-convert');\n",
              "        buttonEl.style.display =\n",
              "          google.colab.kernel.accessAllowed ? 'block' : 'none';\n",
              "\n",
              "        async function convertToInteractive(key) {\n",
              "          const element = document.querySelector('#df-72f6f889-e5d1-4c26-8885-67d473c904b6');\n",
              "          const dataTable =\n",
              "            await google.colab.kernel.invokeFunction('convertToInteractive',\n",
              "                                                     [key], {});\n",
              "          if (!dataTable) return;\n",
              "\n",
              "          const docLinkHtml = 'Like what you see? Visit the ' +\n",
              "            '<a target=\"_blank\" href=https://colab.research.google.com/notebooks/data_table.ipynb>data table notebook</a>'\n",
              "            + ' to learn more about interactive tables.';\n",
              "          element.innerHTML = '';\n",
              "          dataTable['output_type'] = 'display_data';\n",
              "          await google.colab.output.renderOutput(dataTable, element);\n",
              "          const docLink = document.createElement('div');\n",
              "          docLink.innerHTML = docLinkHtml;\n",
              "          element.appendChild(docLink);\n",
              "        }\n",
              "      </script>\n",
              "    </div>\n",
              "  </div>\n",
              "  "
            ]
          },
          "metadata": {},
          "execution_count": 21
        }
      ]
    },
    {
      "cell_type": "code",
      "metadata": {
        "id": "ARNfTnDbzJGz",
        "outputId": "69fbbe3b-244d-4487-ffec-c6b779c6f19a",
        "colab": {
          "base_uri": "https://localhost:8080/",
          "height": 356
        }
      },
      "source": [
        "# checking the distribution of label counts in the train data\n",
        "\n",
        "train['video'].value_counts().plot.bar(color = 'blue', figsize = (10,5))"
      ],
      "execution_count": null,
      "outputs": [
        {
          "output_type": "execute_result",
          "data": {
            "text/plain": [
              "<matplotlib.axes._subplots.AxesSubplot at 0x7fbfdc8d4310>"
            ]
          },
          "metadata": {},
          "execution_count": 14
        },
        {
          "output_type": "display_data",
          "data": {
            "text/plain": [
              "<Figure size 720x360 with 1 Axes>"
            ],
            "image/png": "[encoded data removed]"
          },
          "metadata": {}
        }
      ]
    },
    {
      "cell_type": "code",
      "metadata": {
        "id": "hxRQT2C0zgta",
        "outputId": "95a8bde1-8e9e-4b76-8554-1b1fa2f8331e",
        "colab": {
          "base_uri": "https://localhost:8080/",
          "height": 342
        }
      },
      "source": [
        "# checking the distribution of tweets in the whole dataset\n",
        "\n",
        "length_train = train['tweet'].str.len().plot.hist(color = 'black', figsize = (10, 5))\n",
        "length_test = test['tweet'].str.len().plot.hist(color = 'red', figsize = (10,5))"
      ],
      "execution_count": null,
      "outputs": [
        {
          "output_type": "display_data",
          "data": {
            "text/plain": [
              "<Figure size 720x360 with 1 Axes>"
            ],
            "image/png": "[encoded data removed]"
          },
          "metadata": {}
        }
      ]
    },
    {
      "cell_type": "code",
      "metadata": {
        "id": "zzwesdfizxLT"
      },
      "source": [
        "# adding a column to check for the length of the tweet\n",
        "\n",
        "train['len'] = train['tweet'].str.len()\n",
        "test['len'] =  test['tweet'].str.len()"
      ],
      "execution_count": null,
      "outputs": []
    },
    {
      "cell_type": "code",
      "metadata": {
        "id": "7AFIuC_gz9YI",
        "outputId": "d0bd6dce-8c0f-4935-8eb9-119f01a07ca1",
        "colab": {
          "base_uri": "https://localhost:8080/",
          "height": 359
        }
      },
      "source": [
        "# checking the newly added column that checks the length of a tweet\n",
        "train.head(10)"
      ],
      "execution_count": null,
      "outputs": [
        {
          "output_type": "execute_result",
          "data": {
            "text/plain": [
              "   index                   id  \\\n",
              "0      1  1590796436685217792   \n",
              "1      2  1590796436685217792   \n",
              "2      3  1588258851232546817   \n",
              "3      4  1588255385118736384   \n",
              "4      5  1587846074047373313   \n",
              "5      6  1587428284467482624   \n",
              "6      7  1587181267891748870   \n",
              "7      8  1587160699607945217   \n",
              "8      9  1587135713757233152   \n",
              "9     10  1587122239823937536   \n",
              "\n",
              "                                               tweet  \\\n",
              "0  Do you need to talk to someone after #Hurrican...   \n",
              "1  Do you need to talk to someone after #Hurrican...   \n",
              "2  @user 0% of our stops signs in Charlotte Count...   \n",
              "3  Normally I love our thunder and lightening sto...   \n",
              "4  Take a few minutes to listen to Kristine Holli...   \n",
              "5  In support of the schools and children impacte...   \n",
              "6  @user Being from Louisiana and a working broke...   \n",
              "7  @user, technology created in a UF lab, is help...   \n",
              "8  The #woke mob is coming for country music star...   \n",
              "9  In support of the schools and children impacte...   \n",
              "\n",
              "                               hashtags  video  len  \n",
              "0       ['hurricanelan', 'lanrecovery']      1  442  \n",
              "1       ['hurricanelan', 'lanrecovery']      1  442  \n",
              "2                      ['hurricanelan']      0  364  \n",
              "3                      ['hurricanelan']      0  392  \n",
              "4                      ['hurricanelan']      1  222  \n",
              "5       ['hurricanelan', 'bethebranch']      0  480  \n",
              "6                      ['hurricanelan']      0  220  \n",
              "7  ['hurricanelan', 'uf', 'ufinnovate']      0  266  \n",
              "8              ['woke', 'hurricanelan']      0  366  \n",
              "9                      ['hurricanelan']      0  454  "
            ],
            "text/html": [
              "\n",
              "  <div id=\"df-280d96ba-f5a7-4493-b092-c5c05738f1e8\">\n",
              "    <div class=\"colab-df-container\">\n",
              "      <div>\n",
              "<style scoped>\n",
              "    .dataframe tbody tr th:only-of-type {\n",
              "        vertical-align: middle;\n",
              "    }\n",
              "\n",
              "    .dataframe tbody tr th {\n",
              "        vertical-align: top;\n",
              "    }\n",
              "\n",
              "    .dataframe thead th {\n",
              "        text-align: right;\n",
              "    }\n",
              "</style>\n",
              "<table border=\"1\" class=\"dataframe\">\n",
              "  <thead>\n",
              "    <tr style=\"text-align: right;\">\n",
              "      <th></th>\n",
              "      <th>index</th>\n",
              "      <th>id</th>\n",
              "      <th>tweet</th>\n",
              "      <th>hashtags</th>\n",
              "      <th>video</th>\n",
              "      <th>len</th>\n",
              "    </tr>\n",
              "  </thead>\n",
              "  <tbody>\n",
              "    <tr>\n",
              "      <th>0</th>\n",
              "      <td>1</td>\n",
              "      <td>1590796436685217792</td>\n",
              "      <td>Do you need to talk to someone after #Hurrican...</td>\n",
              "      <td>['hurricanelan', 'lanrecovery']</td>\n",
              "      <td>1</td>\n",
              "      <td>442</td>\n",
              "    </tr>\n",
              "    <tr>\n",
              "      <th>1</th>\n",
              "      <td>2</td>\n",
              "      <td>1590796436685217792</td>\n",
              "      <td>Do you need to talk to someone after #Hurrican...</td>\n",
              "      <td>['hurricanelan', 'lanrecovery']</td>\n",
              "      <td>1</td>\n",
              "      <td>442</td>\n",
              "    </tr>\n",
              "    <tr>\n",
              "      <th>2</th>\n",
              "      <td>3</td>\n",
              "      <td>1588258851232546817</td>\n",
              "      <td>@user 0% of our stops signs in Charlotte Count...</td>\n",
              "      <td>['hurricanelan']</td>\n",
              "      <td>0</td>\n",
              "      <td>364</td>\n",
              "    </tr>\n",
              "    <tr>\n",
              "      <th>3</th>\n",
              "      <td>4</td>\n",
              "      <td>1588255385118736384</td>\n",
              "      <td>Normally I love our thunder and lightening sto...</td>\n",
              "      <td>['hurricanelan']</td>\n",
              "      <td>0</td>\n",
              "      <td>392</td>\n",
              "    </tr>\n",
              "    <tr>\n",
              "      <th>4</th>\n",
              "      <td>5</td>\n",
              "      <td>1587846074047373313</td>\n",
              "      <td>Take a few minutes to listen to Kristine Holli...</td>\n",
              "      <td>['hurricanelan']</td>\n",
              "      <td>1</td>\n",
              "      <td>222</td>\n",
              "    </tr>\n",
              "    <tr>\n",
              "      <th>5</th>\n",
              "      <td>6</td>\n",
              "      <td>1587428284467482624</td>\n",
              "      <td>In support of the schools and children impacte...</td>\n",
              "      <td>['hurricanelan', 'bethebranch']</td>\n",
              "      <td>0</td>\n",
              "      <td>480</td>\n",
              "    </tr>\n",
              "    <tr>\n",
              "      <th>6</th>\n",
              "      <td>7</td>\n",
              "      <td>1587181267891748870</td>\n",
              "      <td>@user Being from Louisiana and a working broke...</td>\n",
              "      <td>['hurricanelan']</td>\n",
              "      <td>0</td>\n",
              "      <td>220</td>\n",
              "    </tr>\n",
              "    <tr>\n",
              "      <th>7</th>\n",
              "      <td>8</td>\n",
              "      <td>1587160699607945217</td>\n",
              "      <td>@user, technology created in a UF lab, is help...</td>\n",
              "      <td>['hurricanelan', 'uf', 'ufinnovate']</td>\n",
              "      <td>0</td>\n",
              "      <td>266</td>\n",
              "    </tr>\n",
              "    <tr>\n",
              "      <th>8</th>\n",
              "      <td>9</td>\n",
              "      <td>1587135713757233152</td>\n",
              "      <td>The #woke mob is coming for country music star...</td>\n",
              "      <td>['woke', 'hurricanelan']</td>\n",
              "      <td>0</td>\n",
              "      <td>366</td>\n",
              "    </tr>\n",
              "    <tr>\n",
              "      <th>9</th>\n",
              "      <td>10</td>\n",
              "      <td>1587122239823937536</td>\n",
              "      <td>In support of the schools and children impacte...</td>\n",
              "      <td>['hurricanelan']</td>\n",
              "      <td>0</td>\n",
              "      <td>454</td>\n",
              "    </tr>\n",
              "  </tbody>\n",
              "</table>\n",
              "</div>\n",
              "      <button class=\"colab-df-convert\" onclick=\"convertToInteractive('df-280d96ba-f5a7-4493-b092-c5c05738f1e8')\"\n",
              "              title=\"Convert this dataframe to an interactive table.\"\n",
              "              style=\"display:none;\">\n",
              "        \n",
              "  <svg xmlns=\"http://www.w3.org/2000/svg\" height=\"24px\"viewBox=\"0 0 24 24\"\n",
              "       width=\"24px\">\n",
              "    <path d=\"M0 0h24v24H0V0z\" fill=\"none\"/>\n",
              "    <path d=\"M18.56 5.44l.94 2.06.94-2.06 2.06-.94-2.06-.94-.94-2.06-.94 2.06-2.06.94zm-11 1L8.5 8.5l.94-2.06 2.06-.94-2.06-.94L8.5 2.5l-.94 2.06-2.06.94zm10 10l.94 2.06.94-2.06 2.06-.94-2.06-.94-.94-2.06-.94 2.06-2.06.94z\"/><path d=\"M17.41 7.96l-1.37-1.37c-.4-.4-.92-.59-1.43-.59-.52 0-1.04.2-1.43.59L10.3 9.45l-7.72 7.72c-.78.78-.78 2.05 0 2.83L4 21.41c.39.39.9.59 1.41.59.51 0 1.02-.2 1.41-.59l7.78-7.78 2.81-2.81c.8-.78.8-2.07 0-2.86zM5.41 20L4 18.59l7.72-7.72 1.47 1.35L5.41 20z\"/>\n",
              "  </svg>\n",
              "      </button>\n",
              "      \n",
              "  <style>\n",
              "    .colab-df-container {\n",
              "      display:flex;\n",
              "      flex-wrap:wrap;\n",
              "      gap: 12px;\n",
              "    }\n",
              "\n",
              "    .colab-df-convert {\n",
              "      background-color: #E8F0FE;\n",
              "      border: none;\n",
              "      border-radius: 50%;\n",
              "      cursor: pointer;\n",
              "      display: none;\n",
              "      fill: #1967D2;\n",
              "      height: 32px;\n",
              "      padding: 0 0 0 0;\n",
              "      width: 32px;\n",
              "    }\n",
              "\n",
              "    .colab-df-convert:hover {\n",
              "      background-color: #E2EBFA;\n",
              "      box-shadow: 0px 1px 2px rgba(60, 64, 67, 0.3), 0px 1px 3px 1px rgba(60, 64, 67, 0.15);\n",
              "      fill: #174EA6;\n",
              "    }\n",
              "\n",
              "    [theme=dark] .colab-df-convert {\n",
              "      background-color: #3B4455;\n",
              "      fill: #D2E3FC;\n",
              "    }\n",
              "\n",
              "    [theme=dark] .colab-df-convert:hover {\n",
              "      background-color: #434B5C;\n",
              "      box-shadow: 0px 1px 3px 1px rgba(0, 0, 0, 0.15);\n",
              "      filter: drop-shadow(0px 1px 2px rgba(0, 0, 0, 0.3));\n",
              "      fill: #FFFFFF;\n",
              "    }\n",
              "  </style>\n",
              "\n",
              "      <script>\n",
              "        const buttonEl =\n",
              "          document.querySelector('#df-280d96ba-f5a7-4493-b092-c5c05738f1e8 button.colab-df-convert');\n",
              "        buttonEl.style.display =\n",
              "          google.colab.kernel.accessAllowed ? 'block' : 'none';\n",
              "\n",
              "        async function convertToInteractive(key) {\n",
              "          const element = document.querySelector('#df-280d96ba-f5a7-4493-b092-c5c05738f1e8');\n",
              "          const dataTable =\n",
              "            await google.colab.kernel.invokeFunction('convertToInteractive',\n",
              "                                                     [key], {});\n",
              "          if (!dataTable) return;\n",
              "\n",
              "          const docLinkHtml = 'Like what you see? Visit the ' +\n",
              "            '<a target=\"_blank\" href=https://colab.research.google.com/notebooks/data_table.ipynb>data table notebook</a>'\n",
              "            + ' to learn more about interactive tables.';\n",
              "          element.innerHTML = '';\n",
              "          dataTable['output_type'] = 'display_data';\n",
              "          await google.colab.output.renderOutput(dataTable, element);\n",
              "          const docLink = document.createElement('div');\n",
              "          docLink.innerHTML = docLinkHtml;\n",
              "          element.appendChild(docLink);\n",
              "        }\n",
              "      </script>\n",
              "    </div>\n",
              "  </div>\n",
              "  "
            ]
          },
          "metadata": {},
          "execution_count": 27
        }
      ]
    },
    {
      "cell_type": "code",
      "metadata": {
        "id": "NgJPeC2O0Nuc",
        "outputId": "f8a17ed3-6e2f-4984-ab37-6353c69deef5",
        "colab": {
          "base_uri": "https://localhost:8080/",
          "height": 266
        }
      },
      "source": [
        "#checking the train length for the train data\n",
        "\n",
        "train.groupby('video').describe()"
      ],
      "execution_count": null,
      "outputs": [
        {
          "output_type": "execute_result",
          "data": {
            "text/plain": [
              "         index                                                               \\\n",
              "         count          mean           std  min      25%      50%       75%   \n",
              "video                                                                         \n",
              "0      69645.0  42941.963946  24885.904894  3.0  21406.0  42398.0  64380.00   \n",
              "1      17138.0  45220.845898  25636.694867  1.0  22963.5  47260.5  67804.75   \n",
              "\n",
              "                     id                ...                              \\\n",
              "           max    count          mean  ...           75%           max   \n",
              "video                                  ...                               \n",
              "0      86782.0  69645.0  1.591038e+18  ...  1.591411e+18  1.592616e+18   \n",
              "1      86783.0  17138.0  1.591006e+18  ...  1.591294e+18  1.592616e+18   \n",
              "\n",
              "           len                                                             \n",
              "         count        mean         std   min    25%    50%    75%     max  \n",
              "video                                                                      \n",
              "0      69645.0  255.232996  151.950985   6.0  134.0  214.0  358.0  1168.0  \n",
              "1      17138.0  301.708484  156.391166  16.0  168.0  278.0  442.0  1116.0  \n",
              "\n",
              "[2 rows x 24 columns]"
            ],
            "text/html": [
              "\n",
              "  <div id=\"df-8877b66d-f0e7-4b10-84b4-377c151ce109\">\n",
              "    <div class=\"colab-df-container\">\n",
              "      <div>\n",
              "<style scoped>\n",
              "    .dataframe tbody tr th:only-of-type {\n",
              "        vertical-align: middle;\n",
              "    }\n",
              "\n",
              "    .dataframe tbody tr th {\n",
              "        vertical-align: top;\n",
              "    }\n",
              "\n",
              "    .dataframe thead tr th {\n",
              "        text-align: left;\n",
              "    }\n",
              "\n",
              "    .dataframe thead tr:last-of-type th {\n",
              "        text-align: right;\n",
              "    }\n",
              "</style>\n",
              "<table border=\"1\" class=\"dataframe\">\n",
              "  <thead>\n",
              "    <tr>\n",
              "      <th></th>\n",
              "      <th colspan=\"8\" halign=\"left\">index</th>\n",
              "      <th colspan=\"5\" halign=\"left\">id</th>\n",
              "      <th colspan=\"8\" halign=\"left\">len</th>\n",
              "    </tr>\n",
              "    <tr>\n",
              "      <th></th>\n",
              "      <th>count</th>\n",
              "      <th>mean</th>\n",
              "      <th>std</th>\n",
              "      <th>min</th>\n",
              "      <th>25%</th>\n",
              "      <th>50%</th>\n",
              "      <th>75%</th>\n",
              "      <th>max</th>\n",
              "      <th>count</th>\n",
              "      <th>mean</th>\n",
              "      <th>...</th>\n",
              "      <th>75%</th>\n",
              "      <th>max</th>\n",
              "      <th>count</th>\n",
              "      <th>mean</th>\n",
              "      <th>std</th>\n",
              "      <th>min</th>\n",
              "      <th>25%</th>\n",
              "      <th>50%</th>\n",
              "      <th>75%</th>\n",
              "      <th>max</th>\n",
              "    </tr>\n",
              "    <tr>\n",
              "      <th>video</th>\n",
              "      <th></th>\n",
              "      <th></th>\n",
              "      <th></th>\n",
              "      <th></th>\n",
              "      <th></th>\n",
              "      <th></th>\n",
              "      <th></th>\n",
              "      <th></th>\n",
              "      <th></th>\n",
              "      <th></th>\n",
              "      <th></th>\n",
              "      <th></th>\n",
              "      <th></th>\n",
              "      <th></th>\n",
              "      <th></th>\n",
              "      <th></th>\n",
              "      <th></th>\n",
              "      <th></th>\n",
              "      <th></th>\n",
              "      <th></th>\n",
              "      <th></th>\n",
              "    </tr>\n",
              "  </thead>\n",
              "  <tbody>\n",
              "    <tr>\n",
              "      <th>0</th>\n",
              "      <td>69645.0</td>\n",
              "      <td>42941.963946</td>\n",
              "      <td>24885.904894</td>\n",
              "      <td>3.0</td>\n",
              "      <td>21406.0</td>\n",
              "      <td>42398.0</td>\n",
              "      <td>64380.00</td>\n",
              "      <td>86782.0</td>\n",
              "      <td>69645.0</td>\n",
              "      <td>1.591038e+18</td>\n",
              "      <td>...</td>\n",
              "      <td>1.591411e+18</td>\n",
              "      <td>1.592616e+18</td>\n",
              "      <td>69645.0</td>\n",
              "      <td>255.232996</td>\n",
              "      <td>151.950985</td>\n",
              "      <td>6.0</td>\n",
              "      <td>134.0</td>\n",
              "      <td>214.0</td>\n",
              "      <td>358.0</td>\n",
              "      <td>1168.0</td>\n",
              "    </tr>\n",
              "    <tr>\n",
              "      <th>1</th>\n",
              "      <td>17138.0</td>\n",
              "      <td>45220.845898</td>\n",
              "      <td>25636.694867</td>\n",
              "      <td>1.0</td>\n",
              "      <td>22963.5</td>\n",
              "      <td>47260.5</td>\n",
              "      <td>67804.75</td>\n",
              "      <td>86783.0</td>\n",
              "      <td>17138.0</td>\n",
              "      <td>1.591006e+18</td>\n",
              "      <td>...</td>\n",
              "      <td>1.591294e+18</td>\n",
              "      <td>1.592616e+18</td>\n",
              "      <td>17138.0</td>\n",
              "      <td>301.708484</td>\n",
              "      <td>156.391166</td>\n",
              "      <td>16.0</td>\n",
              "      <td>168.0</td>\n",
              "      <td>278.0</td>\n",
              "      <td>442.0</td>\n",
              "      <td>1116.0</td>\n",
              "    </tr>\n",
              "  </tbody>\n",
              "</table>\n",
              "<p>2 rows × 24 columns</p>\n",
              "</div>\n",
              "      <button class=\"colab-df-convert\" onclick=\"convertToInteractive('df-8877b66d-f0e7-4b10-84b4-377c151ce109')\"\n",
              "              title=\"Convert this dataframe to an interactive table.\"\n",
              "              style=\"display:none;\">\n",
              "        \n",
              "  <svg xmlns=\"http://www.w3.org/2000/svg\" height=\"24px\"viewBox=\"0 0 24 24\"\n",
              "       width=\"24px\">\n",
              "    <path d=\"M0 0h24v24H0V0z\" fill=\"none\"/>\n",
              "    <path d=\"M18.56 5.44l.94 2.06.94-2.06 2.06-.94-2.06-.94-.94-2.06-.94 2.06-2.06.94zm-11 1L8.5 8.5l.94-2.06 2.06-.94-2.06-.94L8.5 2.5l-.94 2.06-2.06.94zm10 10l.94 2.06.94-2.06 2.06-.94-2.06-.94-.94-2.06-.94 2.06-2.06.94z\"/><path d=\"M17.41 7.96l-1.37-1.37c-.4-.4-.92-.59-1.43-.59-.52 0-1.04.2-1.43.59L10.3 9.45l-7.72 7.72c-.78.78-.78 2.05 0 2.83L4 21.41c.39.39.9.59 1.41.59.51 0 1.02-.2 1.41-.59l7.78-7.78 2.81-2.81c.8-.78.8-2.07 0-2.86zM5.41 20L4 18.59l7.72-7.72 1.47 1.35L5.41 20z\"/>\n",
              "  </svg>\n",
              "      </button>\n",
              "      \n",
              "  <style>\n",
              "    .colab-df-container {\n",
              "      display:flex;\n",
              "      flex-wrap:wrap;\n",
              "      gap: 12px;\n",
              "    }\n",
              "\n",
              "    .colab-df-convert {\n",
              "      background-color: #E8F0FE;\n",
              "      border: none;\n",
              "      border-radius: 50%;\n",
              "      cursor: pointer;\n",
              "      display: none;\n",
              "      fill: #1967D2;\n",
              "      height: 32px;\n",
              "      padding: 0 0 0 0;\n",
              "      width: 32px;\n",
              "    }\n",
              "\n",
              "    .colab-df-convert:hover {\n",
              "      background-color: #E2EBFA;\n",
              "      box-shadow: 0px 1px 2px rgba(60, 64, 67, 0.3), 0px 1px 3px 1px rgba(60, 64, 67, 0.15);\n",
              "      fill: #174EA6;\n",
              "    }\n",
              "\n",
              "    [theme=dark] .colab-df-convert {\n",
              "      background-color: #3B4455;\n",
              "      fill: #D2E3FC;\n",
              "    }\n",
              "\n",
              "    [theme=dark] .colab-df-convert:hover {\n",
              "      background-color: #434B5C;\n",
              "      box-shadow: 0px 1px 3px 1px rgba(0, 0, 0, 0.15);\n",
              "      filter: drop-shadow(0px 1px 2px rgba(0, 0, 0, 0.3));\n",
              "      fill: #FFFFFF;\n",
              "    }\n",
              "  </style>\n",
              "\n",
              "      <script>\n",
              "        const buttonEl =\n",
              "          document.querySelector('#df-8877b66d-f0e7-4b10-84b4-377c151ce109 button.colab-df-convert');\n",
              "        buttonEl.style.display =\n",
              "          google.colab.kernel.accessAllowed ? 'block' : 'none';\n",
              "\n",
              "        async function convertToInteractive(key) {\n",
              "          const element = document.querySelector('#df-8877b66d-f0e7-4b10-84b4-377c151ce109');\n",
              "          const dataTable =\n",
              "            await google.colab.kernel.invokeFunction('convertToInteractive',\n",
              "                                                     [key], {});\n",
              "          if (!dataTable) return;\n",
              "\n",
              "          const docLinkHtml = 'Like what you see? Visit the ' +\n",
              "            '<a target=\"_blank\" href=https://colab.research.google.com/notebooks/data_table.ipynb>data table notebook</a>'\n",
              "            + ' to learn more about interactive tables.';\n",
              "          element.innerHTML = '';\n",
              "          dataTable['output_type'] = 'display_data';\n",
              "          await google.colab.output.renderOutput(dataTable, element);\n",
              "          const docLink = document.createElement('div');\n",
              "          docLink.innerHTML = docLinkHtml;\n",
              "          element.appendChild(docLink);\n",
              "        }\n",
              "      </script>\n",
              "    </div>\n",
              "  </div>\n",
              "  "
            ]
          },
          "metadata": {},
          "execution_count": 28
        }
      ]
    },
    {
      "cell_type": "code",
      "metadata": {
        "id": "elgRl9di0XR6",
        "outputId": "f5ba5f24-f5f2-490b-de75-d9c576357ce8",
        "colab": {
          "base_uri": "https://localhost:8080/",
          "height": 375
        }
      },
      "source": [
        "#variation of len in the train data\n",
        "\n",
        "train.groupby('len').mean()['video'].plot.hist(color ='blue',figsize = (10,5))\n",
        "plt.title('variation of length')\n",
        "plt.xlabel('Length')\n",
        "plt.show()"
      ],
      "execution_count": null,
      "outputs": [
        {
          "output_type": "display_data",
          "data": {
            "text/plain": [
              "<Figure size 720x360 with 1 Axes>"
            ],
            "image/png": "[encoded data removed]"
          },
          "metadata": {}
        }
      ]
    },
    {
      "cell_type": "code",
      "metadata": {
        "id": "yHh0tu88GUXE",
        "outputId": "9dc39f0f-8984-45ba-c241-840aa5ab7b1d",
        "colab": {
          "base_uri": "https://localhost:8080/"
        }
      },
      "source": [
        "# tokenizing the words present in the training set\n",
        "tokenized_tweet = train['tweet'].apply(lambda x: x.split()) \n",
        "\n",
        "# importing gensim\n",
        "import gensim\n",
        "\n",
        "# creating a word to vector model\n",
        "model_w2v = gensim.models.Word2Vec(\n",
        "            tokenized_tweet,\n",
        "            size=200, # desired no. of features/independent variables \n",
        "            window=5, # context window size\n",
        "            min_count=2,\n",
        "            sg = 1, # 1 for skip-gram model\n",
        "            hs = 0,\n",
        "            negative = 10, # for negative sampling\n",
        "            workers= 2, # no.of cores\n",
        "            seed = 34)\n",
        "\n",
        "model_w2v.train(tokenized_tweet, total_examples= len(train['tweet']), epochs=20)"
      ],
      "execution_count": null,
      "outputs": [
        {
          "output_type": "stream",
          "name": "stderr",
          "text": [
            "WARNING:gensim.models.base_any2vec:Effective 'alpha' higher than previous training cycles\n"
          ]
        },
        {
          "output_type": "execute_result",
          "data": {
            "text/plain": [
              "(62927596, 78957780)"
            ]
          },
          "metadata": {},
          "execution_count": 20
        }
      ]
    },
    {
      "cell_type": "code",
      "metadata": {
        "id": "7Cww_lASGcej",
        "outputId": "17a98edf-664b-4447-cd7c-53ca20be5db6",
        "colab": {
          "base_uri": "https://localhost:8080/"
        }
      },
      "source": [
        "model_w2v.wv.most_similar(positive = \"hurricane\")\n"
      ],
      "execution_count": null,
      "outputs": [
        {
          "output_type": "execute_result",
          "data": {
            "text/plain": [
              "[('Hurricane', 0.6178480386734009),\n",
              " ('a', 0.6007472276687622),\n",
              " ('hurricane,', 0.5767987370491028),\n",
              " ('us)', 0.5752251744270325),\n",
              " ('😮\\u200d💨🥴🥴', 0.5727463364601135),\n",
              " ('sad.😭', 0.5690870881080627),\n",
              " ('hurricane.🤣🤣🤣🤣😈😈😈😈', 0.5676811337471008),\n",
              " ('😩💯', 0.5595639944076538),\n",
              " ('storm/hurricane', 0.5562617182731628),\n",
              " ('night/morn', 0.553983211517334)]"
            ]
          },
          "metadata": {},
          "execution_count": 21
        }
      ]
    },
    {
      "cell_type": "code",
      "metadata": {
        "id": "pXvY9lwBGpLQ"
      },
      "source": [
        "from tqdm import tqdm\n",
        "tqdm.pandas(desc=\"progress-bar\")\n",
        "from gensim.models.doc2vec import LabeledSentence"
      ],
      "execution_count": null,
      "outputs": []
    },
    {
      "cell_type": "code",
      "metadata": {
        "id": "mDzH-mSHHALk",
        "outputId": "364c7a69-0636-4028-d677-bbd24918e81f",
        "colab": {
          "base_uri": "https://localhost:8080/"
        }
      },
      "source": [
        "def add_label(twt):\n",
        "    output = []\n",
        "    for i, s in zip(twt.index, twt):\n",
        "        output.append(LabeledSentence(s, [\"tweet_\" + str(i)]))\n",
        "    return output\n",
        "\n",
        "# label all the tweets\n",
        "labeled_tweets = add_label(tokenized_tweet)\n",
        "\n",
        "labeled_tweets[:6]"
      ],
      "execution_count": null,
      "outputs": [
        {
          "output_type": "execute_result",
          "data": {
            "text/plain": [
              "[LabeledSentence(words=['Do', 'you', 'need', 'to', 'talk', 'to', 'someone', 'after', '#Hurricanelan?', '@user', 'has', 'a', 'Disaster', 'Distress', 'Hotline', 'that', 'you', 'can', 'call', 'or', 'text', '0-0-0-0.', 'This', 'hotline', 'is', 'available', '0/0.', 'Do', 'not', 'hesitate', 'to', 'reach', 'out', 'and', 'talk', 'to', 'someone.', '#lanRecovery', '*', '#Do', 'you', 'need', 'to', 'talk', 'to', 'someone', 'after', '#Hurricanelan?', '@user', 'has', 'a', 'Disaster', 'Distress', 'Hotline', 'that', 'you', 'can', 'call', 'or', 'text', '0-0-0-0.', 'This', 'hotline', 'is', 'available', '0/0.', 'Do', 'not', 'hesitate', 'to', 'reach', 'out', 'and', 'talk', 'to', 'someone.', '#lanRecovery', '*'], tags=['tweet_0']),\n",
              " LabeledSentence(words=['Do', 'you', 'need', 'to', 'talk', 'to', 'someone', 'after', '#Hurricanelan?', '@user', 'has', 'a', 'Disaster', 'Distress', 'Hotline', 'that', 'you', 'can', 'call', 'or', 'text', '0-0-0-0.', 'This', 'hotline', 'is', 'available', '0/0.', 'Do', 'not', 'hesitate', 'to', 'reach', 'out', 'and', 'talk', 'to', 'someone.', '#lanRecovery', '*', '#Do', 'you', 'need', 'to', 'talk', 'to', 'someone', 'after', '#Hurricanelan?', '@user', 'has', 'a', 'Disaster', 'Distress', 'Hotline', 'that', 'you', 'can', 'call', 'or', 'text', '0-0-0-0.', 'This', 'hotline', 'is', 'available', '0/0.', 'Do', 'not', 'hesitate', 'to', 'reach', 'out', 'and', 'talk', 'to', 'someone.', '#lanRecovery', '*'], tags=['tweet_1']),\n",
              " LabeledSentence(words=['@user', '0%', 'of', 'our', 'stops', 'signs', 'in', 'Charlotte', 'County', 'need', 'correction', 'following', '#Hurricanelan.', 'Our', 'Charlotte', 'County', 'Public', 'Works', 'crew', 'is', 'working', 'hard', 'to', 'get', 'all', '0,0', 'of', 'them', 'stood', 'back', 'up.', '#@user', '0%', 'of', 'our', 'stops', 'signs', 'in', 'Charlotte', 'County', 'need', 'correction', 'following', '#Hurricanelan.', 'Our', 'Charlotte', 'County', 'Public', 'Works', 'crew', 'is', 'working', 'hard', 'to', 'get', 'all', '0,0', 'of', 'them', 'stood', 'back', 'up.'], tags=['tweet_2']),\n",
              " LabeledSentence(words=['Normally', 'I', 'love', 'our', 'thunder', 'and', 'lightening', 'storms.', 'But', 'lastnight,', 'we', 'had', 'one.', 'But', 'I', 'felt', 'very', 'edgy.', 'I', 'guess', 'after', 'going', 'through', '#Hurricanelan', 'that', 'was', 'bound', 'to', 'happen.', 'Thankfully', 'it', 'past', 'quickly.', '#Normally', 'I', 'love', 'our', 'thunder', 'and', 'lightening', 'storms.', 'But', 'lastnight,', 'we', 'had', 'one.', 'But', 'I', 'felt', 'very', 'edgy.', 'I', 'guess', 'after', 'going', 'through', '#Hurricanelan', 'that', 'was', 'bound', 'to', 'happen.', 'Thankfully', 'it', 'past', 'quickly.'], tags=['tweet_3']),\n",
              " LabeledSentence(words=['Take', 'a', 'few', 'minutes', 'to', 'listen', 'to', 'Kristine', 'Hollingsworth,', 'DOH-Collier', 'PIO', 'answer', 'questions', 'post', '#Hurricanelan.', '*', '#Take', 'a', 'few', 'minutes', 'to', 'listen', 'to', 'Kristine', 'Hollingsworth,', 'DOH-Collier', 'PIO', 'answer', 'questions', 'post', '#Hurricanelan.', '*'], tags=['tweet_4']),\n",
              " LabeledSentence(words=['In', 'support', 'of', 'the', 'schools', 'and', 'children', 'impacted', 'by', '#hurricanelan,', '@user', 'is', 'organizing', 'a', 'fundraising', 'for', '@user', 'coordinated', 'by', 'parent', '&amp;', 'community', 'member', 'Jill', 'Jaskiewicz', '-', 'Please', 'join', 'us', 'in', 'bringing', 'life', 'back', 'to', 'this', 'school', '*…#BeTheBranch', '#In', 'support', 'of', 'the', 'schools', 'and', 'children', 'impacted', 'by', '#hurricanelan,', '@user', 'is', 'organizing', 'a', 'fundraising', 'for', '@user', 'coordinated', 'by', 'parent', '&amp;', 'community', 'member', 'Jill', 'Jaskiewicz', '-', 'Please', 'join', 'us', 'in', 'bringing', 'life', 'back', 'to', 'this', 'school', '*…#BeTheBranch'], tags=['tweet_5'])]"
            ]
          },
          "metadata": {},
          "execution_count": 23
        }
      ]
    },
    {
      "cell_type": "code",
      "metadata": {
        "id": "wyZvDniYHDFs",
        "outputId": "173c56e9-5fd3-4316-fd93-ae6c9a10eb4f",
        "colab": {
          "base_uri": "https://localhost:8080/"
        }
      },
      "source": [
        "# removing unwanted patterns from the data\n",
        "\n",
        "import re\n",
        "import nltk\n",
        "\n",
        "nltk.download('stopwords')\n",
        "from nltk.corpus import stopwords\n",
        "from nltk.stem.porter import PorterStemmer"
      ],
      "execution_count": null,
      "outputs": [
        {
          "output_type": "stream",
          "name": "stderr",
          "text": [
            "[nltk_data] Downloading package stopwords to /root/nltk_data...\n",
            "[nltk_data]   Package stopwords is already up-to-date!\n"
          ]
        }
      ]
    },
    {
      "cell_type": "code",
      "source": [
        "tweets"
      ],
      "metadata": {
        "id": "3U6uhe-zGCgN"
      },
      "execution_count": null,
      "outputs": []
    },
    {
      "cell_type": "code",
      "source": [
        "for i,n in enumerate(train['tweet']):\n",
        "  print(train['tweet'][i])\n",
        "  break"
      ],
      "metadata": {
        "colab": {
          "base_uri": "https://localhost:8080/"
        },
        "id": "7Fxir6mTGT-d",
        "outputId": "87f445a8-3875-43a6-8c72-7062b1212731"
      },
      "execution_count": null,
      "outputs": [
        {
          "output_type": "stream",
          "name": "stdout",
          "text": [
            "Do you need to talk to someone after #Hurricanelan? @user has a Disaster Distress Hotline that you can call or text 0-0-0-0. This hotline is available 0/0. Do not hesitate to reach out and talk to someone. #lanRecovery * #Do you need to talk to someone after #Hurricanelan? @user has a Disaster Distress Hotline that you can call or text 0-0-0-0. This hotline is available 0/0. Do not hesitate to reach out and talk to someone. #lanRecovery *\n"
          ]
        }
      ]
    },
    {
      "cell_type": "code",
      "metadata": {
        "id": "IkR8Bu0aHGur"
      },
      "source": [
        "train_corpus = []\n",
        "\n",
        "for i,n in enumerate(train['tweet']):\n",
        "  try:\n",
        "    review = re.sub('[^a-zA-Z]', ' ', train['tweet'][i])\n",
        "    review = review.lower()\n",
        "    review = review.split()\n",
        "    \n",
        "    ps = PorterStemmer()\n",
        "    # stemming\n",
        "    review = [ps.stem(word) for word in review if not word in set(stopwords.words('english'))]\n",
        "    \n",
        "    # joining them back with space\n",
        "    review = ' '.join(review)\n",
        "    train_corpus.append(review)\n",
        "  except:\n",
        "    print(i)\n",
        "  "
      ],
      "execution_count": null,
      "outputs": []
    },
    {
      "cell_type": "code",
      "source": [
        "len(train_corpus)"
      ],
      "metadata": {
        "colab": {
          "base_uri": "https://localhost:8080/"
        },
        "id": "T4P4r9ZTKspm",
        "outputId": "1646984f-5d2d-4ad6-9db3-2c0c4e39d037"
      },
      "execution_count": null,
      "outputs": [
        {
          "output_type": "execute_result",
          "data": {
            "text/plain": [
              "86783"
            ]
          },
          "metadata": {},
          "execution_count": 27
        }
      ]
    },
    {
      "cell_type": "code",
      "source": [
        "test_corpus = []\n",
        "\n",
        "for i in range(len(test)):\n",
        "  try:\n",
        "    review = re.sub('[^a-zA-Z]', ' ', test['tweet'][i+num_test])\n",
        "    review = review.lower()\n",
        "    review = review.split()\n",
        "    \n",
        "    ps = PorterStemmer()\n",
        "    # stemming\n",
        "    review = [ps.stem(word) for word in review if not word in set(stopwords.words('english'))]\n",
        "    \n",
        "    # joining them back with space\n",
        "    review = ' '.join(review)\n",
        "    test_corpus.append(review)\n",
        "  except:\n",
        "    print(i)\n",
        "  \n",
        " "
      ],
      "metadata": {
        "id": "q0HfTfid0RlU"
      },
      "execution_count": null,
      "outputs": []
    },
    {
      "cell_type": "code",
      "metadata": {
        "id": "Yau8JeZyMp-i",
        "colab": {
          "base_uri": "https://localhost:8080/"
        },
        "outputId": "88d8f613-ad37-4233-9727-00958b153175"
      },
      "source": [
        "# creating bag of words for train\n",
        "# creating bag of words\n",
        "\n",
        "from sklearn.feature_extraction.text import CountVectorizer\n",
        "\n",
        "cv = CountVectorizer(max_features = 1000)\n",
        "x = cv.fit_transform(train_corpus).toarray()\n",
        "y = train['video']\n",
        "y.drop(y.index[[2528,2529]], inplace=True)\n",
        "\n",
        "print(x.shape)\n",
        "print(y.shape)\n"
      ],
      "execution_count": null,
      "outputs": [
        {
          "output_type": "stream",
          "name": "stdout",
          "text": [
            "(86783, 1000)\n",
            "(86781,)\n"
          ]
        }
      ]
    },
    {
      "cell_type": "code",
      "metadata": {
        "id": "BtOoUsSsHP99",
        "colab": {
          "base_uri": "https://localhost:8080/"
        },
        "outputId": "1dcb95ae-7693-43ff-df39-10067cc93a22"
      },
      "source": [
        "# creating bag of words for test\n",
        "from nltk import corpus\n",
        "from sklearn.feature_extraction.text import CountVectorizer\n",
        "\n",
        "cv = CountVectorizer(max_features = 1500)\n",
        "x_test = cv.fit_transform(test_corpus).toarray()\n",
        "\n",
        "\n",
        "print(x_test.shape)"
      ],
      "execution_count": null,
      "outputs": [
        {
          "output_type": "stream",
          "name": "stdout",
          "text": [
            "(43391, 1500)\n"
          ]
        }
      ]
    },
    {
      "cell_type": "code",
      "metadata": {
        "id": "vshs8h4TJrd3",
        "colab": {
          "base_uri": "https://localhost:8080/"
        },
        "outputId": "93fc039a-0656-42ed-cee8-afd1c8dd2fa6"
      },
      "source": [
        "import sklearn\n",
        "from sklearn.model_selection import train_test_split\n",
        "x_train, x_valid, y_train, y_valid = train_test_split(x[2:], y, test_size = 0.25, random_state = 42)\n",
        "\n",
        "print(x_train.shape)\n",
        "print(x_valid.shape)\n",
        "print(y_train.shape)\n",
        "print(y_valid.shape)"
      ],
      "execution_count": null,
      "outputs": [
        {
          "output_type": "stream",
          "name": "stdout",
          "text": [
            "(65085, 1000)\n",
            "(21696, 1000)\n",
            "(65085,)\n",
            "(21696,)\n"
          ]
        }
      ]
    },
    {
      "cell_type": "code",
      "source": [
        "y"
      ],
      "metadata": {
        "colab": {
          "base_uri": "https://localhost:8080/"
        },
        "id": "-KvVwpPB6O47",
        "outputId": "40955fa7-8b48-424e-f72e-e9d19469bfa4"
      },
      "execution_count": null,
      "outputs": [
        {
          "output_type": "execute_result",
          "data": {
            "text/plain": [
              "0       1.0\n",
              "1       1.0\n",
              "2       0.0\n",
              "3       0.0\n",
              "4       1.0\n",
              "       ... \n",
              "3473    0.0\n",
              "3474    0.0\n",
              "3475    0.0\n",
              "3476    0.0\n",
              "3477    0.0\n",
              "Name: video, Length: 3474, dtype: float64"
            ]
          },
          "metadata": {},
          "execution_count": 51
        }
      ]
    },
    {
      "cell_type": "code",
      "source": [
        "x_valid"
      ],
      "metadata": {
        "colab": {
          "base_uri": "https://localhost:8080/"
        },
        "id": "VpjpEvDc34F9",
        "outputId": "fe88ab7c-3498-4516-960b-3ace7e533fbe"
      },
      "execution_count": null,
      "outputs": [
        {
          "output_type": "execute_result",
          "data": {
            "text/plain": [
              "array([[0, 0, 0, ..., 0, 0, 0],\n",
              "       [0, 0, 0, ..., 0, 0, 0],\n",
              "       [0, 0, 0, ..., 0, 0, 0],\n",
              "       ...,\n",
              "       [0, 0, 0, ..., 0, 0, 0],\n",
              "       [0, 0, 0, ..., 0, 0, 0],\n",
              "       [0, 0, 0, ..., 0, 0, 0]])"
            ]
          },
          "metadata": {},
          "execution_count": 52
        }
      ]
    },
    {
      "cell_type": "code",
      "source": [
        "y_valid"
      ],
      "metadata": {
        "id": "FqlZXRLy3588",
        "colab": {
          "base_uri": "https://localhost:8080/"
        },
        "outputId": "ae9dbd31-e02c-4252-ff53-938dab12958a"
      },
      "execution_count": null,
      "outputs": [
        {
          "output_type": "execute_result",
          "data": {
            "text/plain": [
              "3005    1.0\n",
              "1681    0.0\n",
              "812     0.0\n",
              "2868    0.0\n",
              "229     0.0\n",
              "       ... \n",
              "1483    0.0\n",
              "695     0.0\n",
              "2847    1.0\n",
              "700     0.0\n",
              "420     1.0\n",
              "Name: video, Length: 869, dtype: float64"
            ]
          },
          "metadata": {},
          "execution_count": 53
        }
      ]
    },
    {
      "cell_type": "code",
      "metadata": {
        "id": "rdpmEDqPJwtB"
      },
      "source": [
        "# standardization\n",
        "\n",
        "from sklearn.preprocessing import StandardScaler\n",
        "\n",
        "sc = StandardScaler()\n",
        "\n",
        "x_train = sc.fit_transform(x_train)\n",
        "x_valid = sc.transform(x_valid)\n"
      ],
      "execution_count": null,
      "outputs": []
    },
    {
      "cell_type": "code",
      "source": [
        "np.isnan(x_train).any()"
      ],
      "metadata": {
        "colab": {
          "base_uri": "https://localhost:8080/"
        },
        "id": "5e1Ua5t47dj0",
        "outputId": "44567c93-0c22-43c0-da59-36292e1b8aac"
      },
      "execution_count": null,
      "outputs": [
        {
          "output_type": "execute_result",
          "data": {
            "text/plain": [
              "False"
            ]
          },
          "metadata": {},
          "execution_count": 55
        }
      ]
    },
    {
      "cell_type": "code",
      "source": [
        "np.isnan(y_train).any()"
      ],
      "metadata": {
        "colab": {
          "base_uri": "https://localhost:8080/"
        },
        "id": "dLKeN-P87iZt",
        "outputId": "8ad26f38-33ff-4362-eeda-be05cb6d3075"
      },
      "execution_count": null,
      "outputs": [
        {
          "output_type": "execute_result",
          "data": {
            "text/plain": [
              "False"
            ]
          },
          "metadata": {},
          "execution_count": 56
        }
      ]
    },
    {
      "cell_type": "code",
      "source": [
        "y_train"
      ],
      "metadata": {
        "id": "HE1KFsGK9k8g",
        "colab": {
          "base_uri": "https://localhost:8080/"
        },
        "outputId": "2e69af99-950e-4aef-d29d-5902c895b47b"
      },
      "execution_count": null,
      "outputs": [
        {
          "output_type": "execute_result",
          "data": {
            "text/plain": [
              "682     1.0\n",
              "1877    1.0\n",
              "460     0.0\n",
              "43      1.0\n",
              "87      1.0\n",
              "       ... \n",
              "1095    0.0\n",
              "1130    0.0\n",
              "1294    0.0\n",
              "860     0.0\n",
              "3178    1.0\n",
              "Name: video, Length: 2605, dtype: float64"
            ]
          },
          "metadata": {},
          "execution_count": 57
        }
      ]
    },
    {
      "cell_type": "code",
      "metadata": {
        "id": "awOw8BO3KJ9H",
        "outputId": "1d6b6a9e-87e5-4ea9-d7c2-c816ce420488",
        "colab": {
          "base_uri": "https://localhost:8080/"
        }
      },
      "source": [
        "from sklearn.ensemble import RandomForestClassifier\n",
        "from sklearn.metrics import confusion_matrix\n",
        "from sklearn.metrics import f1_score\n",
        "\n",
        "model = RandomForestClassifier()\n",
        "model.fit(x_train, y_train)\n",
        "\n",
        "y_pred = model.predict(x_valid)\n",
        "\n",
        "print(\"Training Accuracy :\", model.score(x_train, y_train))\n",
        "print(\"Validation Accuracy :\", model.score(x_valid, y_valid))\n",
        "\n",
        "# calculating the f1 score for the validation set\n"
      ],
      "execution_count": null,
      "outputs": [
        {
          "output_type": "stream",
          "name": "stdout",
          "text": [
            "Training Accuracy : 0.9773065990627641\n",
            "Validation Accuracy : 0.8334716076696165\n"
          ]
        }
      ]
    },
    {
      "cell_type": "code",
      "metadata": {
        "id": "WwmIu9WsO3Pc",
        "outputId": "ca539b05-ca56-48f8-c915-2b544e00c7be",
        "colab": {
          "base_uri": "https://localhost:8080/"
        }
      },
      "source": [
        "# confusion matrix\n",
        "cm = confusion_matrix(y_valid, y_pred)\n",
        "print(cm)"
      ],
      "execution_count": null,
      "outputs": [
        {
          "output_type": "stream",
          "name": "stdout",
          "text": [
            "[[16690   702]\n",
            " [ 2911  1393]]\n"
          ]
        }
      ]
    },
    {
      "cell_type": "code",
      "source": [
        "import matplotlib.pyplot as plt\n",
        "import numpy\n",
        "from sklearn import metrics\n",
        "\n",
        "\n",
        "\n",
        "cm_display = metrics.ConfusionMatrixDisplay(confusion_matrix = cm, display_labels = [False, True])\n",
        "\n",
        "cm_display.plot()\n",
        "plt.show()"
      ],
      "metadata": {
        "id": "UEW118fKDEOw",
        "colab": {
          "base_uri": "https://localhost:8080/",
          "height": 301
        },
        "outputId": "cc7fefa9-fb90-4831-8da9-33dd7026a4a3"
      },
      "execution_count": null,
      "outputs": [
        {
          "output_type": "display_data",
          "data": {
            "text/plain": [
              "<Figure size 432x288 with 2 Axes>"
            ],
            "image/png": "[encoded data removed]"
          },
          "metadata": {}
        }
      ]
    },
    {
      "cell_type": "code",
      "metadata": {
        "id": "w9sJktsJO_65",
        "outputId": "bc18c44a-af01-4b9b-d678-74dfd393671c",
        "colab": {
          "base_uri": "https://localhost:8080/"
        }
      },
      "source": [
        "from sklearn.tree import DecisionTreeClassifier\n",
        "\n",
        "model = DecisionTreeClassifier()\n",
        "model.fit(x_train, y_train)\n",
        "\n",
        "y_pred = model.predict(x_valid)\n",
        "\n",
        "print(\"Training Accuracy :\", model.score(x_train, y_train))\n",
        "print(\"Validation Accuracy :\", model.score(x_valid, y_valid))\n",
        "\n",
        "\n",
        "# confusion matrix\n",
        "cm = confusion_matrix(y_valid, y_pred)\n",
        "print(cm)"
      ],
      "execution_count": null,
      "outputs": [
        {
          "output_type": "stream",
          "name": "stdout",
          "text": [
            "Training Accuracy : 0.9773219635860797\n",
            "Validation Accuracy : 0.7869653392330384\n",
            "[[15300  2092]\n",
            " [ 2530  1774]]\n"
          ]
        }
      ]
    },
    {
      "cell_type": "code",
      "source": [
        "\n",
        "cm_display = metrics.ConfusionMatrixDisplay(confusion_matrix = cm, display_labels = [False, True])\n",
        "\n",
        "cm_display.plot()\n",
        "plt.show()"
      ],
      "metadata": {
        "colab": {
          "base_uri": "https://localhost:8080/",
          "height": 301
        },
        "id": "ZISPaV6JVH77",
        "outputId": "08b28a79-e83c-4126-dddd-efa3e58dafc2"
      },
      "execution_count": null,
      "outputs": [
        {
          "output_type": "display_data",
          "data": {
            "text/plain": [
              "<Figure size 432x288 with 2 Axes>"
            ],
            "image/png": "[encoded data removed]"
          },
          "metadata": {}
        }
      ]
    }
  ]
}